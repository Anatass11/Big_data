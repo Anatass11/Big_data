{
 "cells": [
  {
   "cell_type": "markdown",
   "metadata": {
    "id": "82OvPKEiEqjc"
   },
   "source": [
    "# Введение в MapReduce модель на Python\n"
   ]
  },
  {
   "cell_type": "code",
   "execution_count": 27,
   "metadata": {
    "id": "JQ2cvXLjICmI"
   },
   "outputs": [],
   "source": [
    "from typing import NamedTuple # requires python 3.6+\n",
    "from typing import Iterator"
   ]
  },
  {
   "cell_type": "code",
   "execution_count": 28,
   "metadata": {
    "id": "yjPHumVwEyEg"
   },
   "outputs": [],
   "source": [
    "def MAP(_, row:NamedTuple):\n",
    "  if (row.gender == 'female'):\n",
    "    yield (row.age, row)\n",
    "    \n",
    "def REDUCE(age:str, rows:Iterator[NamedTuple]):\n",
    "  sum = 0\n",
    "  count = 0\n",
    "  for row in rows:\n",
    "    sum += row.social_contacts\n",
    "    count += 1\n",
    "  if (count > 0):\n",
    "    yield (age, sum/count)\n",
    "  else:\n",
    "    yield (age, 0)"
   ]
  },
  {
   "cell_type": "markdown",
   "metadata": {
    "id": "vBKMgpG_ilaZ"
   },
   "source": [
    "Модель элемента данных"
   ]
  },
  {
   "cell_type": "code",
   "execution_count": 29,
   "metadata": {
    "id": "Rv-XIjhTJPx3"
   },
   "outputs": [],
   "source": [
    "class User(NamedTuple):\n",
    "  id: int\n",
    "  age: str\n",
    "  social_contacts: int\n",
    "  gender: str"
   ]
  },
  {
   "cell_type": "code",
   "execution_count": 30,
   "metadata": {
    "id": "5KV0Ze2vQgu5"
   },
   "outputs": [],
   "source": [
    "input_collection = [\n",
    "    User(id=0, age=55, gender='male', social_contacts=20),\n",
    "    User(id=3, age=25, gender='female', social_contacts=240),\n",
    "    User(id=2, age=25, gender='female', social_contacts=500),\n",
    "    User(id=1, age=33, gender='female', social_contacts=800)\n",
    "]"
   ]
  },
  {
   "cell_type": "markdown",
   "metadata": {
    "id": "YFeqzyZxZIFZ"
   },
   "source": [
    "Функция RECORDREADER моделирует чтение элементов с диска или по сети."
   ]
  },
  {
   "cell_type": "code",
   "execution_count": 31,
   "metadata": {
    "id": "S5HR4E_GQoMJ"
   },
   "outputs": [],
   "source": [
    "def RECORDREADER():\n",
    "  return [(u.id, u) for u in input_collection]"
   ]
  },
  {
   "cell_type": "code",
   "execution_count": 32,
   "metadata": {
    "colab": {
     "base_uri": "https://localhost:8080/",
     "height": 85
    },
    "id": "NeEoWla-ROUy",
    "outputId": "94ca6e0e-4644-4282-acbf-1759d7ba2918"
   },
   "outputs": [
    {
     "data": {
      "text/plain": [
       "[(0, User(id=0, age=55, social_contacts=20, gender='male')),\n",
       " (3, User(id=3, age=25, social_contacts=240, gender='female')),\n",
       " (2, User(id=2, age=25, social_contacts=500, gender='female')),\n",
       " (1, User(id=1, age=33, social_contacts=800, gender='female'))]"
      ]
     },
     "execution_count": 32,
     "metadata": {},
     "output_type": "execute_result"
    }
   ],
   "source": [
    "list(RECORDREADER())"
   ]
  },
  {
   "cell_type": "code",
   "execution_count": 33,
   "metadata": {
    "id": "YB8orgPSZs8M"
   },
   "outputs": [],
   "source": [
    "def flatten(nested_iterable):\n",
    "  for iterable in nested_iterable:\n",
    "    for element in iterable:\n",
    "      yield element"
   ]
  },
  {
   "cell_type": "code",
   "execution_count": 34,
   "metadata": {
    "colab": {
     "base_uri": "https://localhost:8080/",
     "height": 68
    },
    "id": "74oyvDLaRmd5",
    "outputId": "c6147702-7153-47c7-a574-d5fe6abe29a8"
   },
   "outputs": [
    {
     "data": {
      "text/plain": [
       "[(25, User(id=3, age=25, social_contacts=240, gender='female')),\n",
       " (25, User(id=2, age=25, social_contacts=500, gender='female')),\n",
       " (33, User(id=1, age=33, social_contacts=800, gender='female'))]"
      ]
     },
     "execution_count": 34,
     "metadata": {},
     "output_type": "execute_result"
    }
   ],
   "source": [
    "map_output = flatten(map(lambda x: MAP(*x), RECORDREADER()))\n",
    "map_output = list(map_output) # materialize\n",
    "map_output"
   ]
  },
  {
   "cell_type": "code",
   "execution_count": 35,
   "metadata": {
    "id": "8ncYDJ3-VzDn"
   },
   "outputs": [],
   "source": [
    "def groupbykey(iterable):\n",
    "  t = {}\n",
    "  for (k2, v2) in iterable:\n",
    "    t[k2] = t.get(k2, []) + [v2]\n",
    "  return t.items()"
   ]
  },
  {
   "cell_type": "code",
   "execution_count": 36,
   "metadata": {
    "colab": {
     "base_uri": "https://localhost:8080/",
     "height": 85
    },
    "id": "cKzY_6COWOA2",
    "outputId": "e6791b12-e409-47e9-bcd4-e9f8ca8611bd"
   },
   "outputs": [
    {
     "data": {
      "text/plain": [
       "[(25,\n",
       "  [User(id=3, age=25, social_contacts=240, gender='female'),\n",
       "   User(id=2, age=25, social_contacts=500, gender='female')]),\n",
       " (33, [User(id=1, age=33, social_contacts=800, gender='female')])]"
      ]
     },
     "execution_count": 36,
     "metadata": {},
     "output_type": "execute_result"
    }
   ],
   "source": [
    "shuffle_output = groupbykey(map_output)\n",
    "shuffle_output = list(shuffle_output)\n",
    "shuffle_output"
   ]
  },
  {
   "cell_type": "code",
   "execution_count": 37,
   "metadata": {
    "colab": {
     "base_uri": "https://localhost:8080/",
     "height": 34
    },
    "id": "NlA7lkDDYL0t",
    "outputId": "6b25d03f-5c92-4f3b-f500-6d70acd598b7"
   },
   "outputs": [
    {
     "data": {
      "text/plain": [
       "[(25, 370.0), (33, 800.0)]"
      ]
     },
     "execution_count": 37,
     "metadata": {},
     "output_type": "execute_result"
    }
   ],
   "source": [
    "reduce_output = flatten(map(lambda x: REDUCE(*x), shuffle_output))\n",
    "reduce_output = list(reduce_output)\n",
    "reduce_output"
   ]
  },
  {
   "cell_type": "markdown",
   "metadata": {
    "id": "xf6qhHEtd6bI"
   },
   "source": [
    "Все действия одним конвейером!"
   ]
  },
  {
   "cell_type": "code",
   "execution_count": 38,
   "metadata": {
    "colab": {
     "base_uri": "https://localhost:8080/",
     "height": 34
    },
    "id": "dZaQGYxCdpw5",
    "outputId": "3f5c6425-e5c5-49d2-b2cd-ce58a9acc33c"
   },
   "outputs": [
    {
     "data": {
      "text/plain": [
       "[(25, 370.0), (33, 800.0)]"
      ]
     },
     "execution_count": 38,
     "metadata": {},
     "output_type": "execute_result"
    }
   ],
   "source": [
    "list(flatten(map(lambda x: REDUCE(*x), groupbykey(flatten(map(lambda x: MAP(*x), RECORDREADER()))))))"
   ]
  },
  {
   "cell_type": "markdown",
   "metadata": {
    "id": "Vq3EWRIpwSiJ"
   },
   "source": [
    "# **MapReduce**\n",
    "Выделим общую для всех пользователей часть системы в отдельную функцию высшего порядка. Это наиболее простая модель MapReduce, без учёта распределённого хранения данных. \n",
    "\n",
    "Пользователь для решения своей задачи реализует RECORDREADER, MAP, REDUCE."
   ]
  },
  {
   "cell_type": "code",
   "execution_count": 39,
   "metadata": {
    "id": "V1PZeQMwwVjc"
   },
   "outputs": [],
   "source": [
    "def flatten(nested_iterable):\n",
    "  for iterable in nested_iterable:\n",
    "    for element in iterable:\n",
    "      yield element\n",
    "\n",
    "def groupbykey(iterable):\n",
    "  t = {}\n",
    "  for (k2, v2) in iterable:\n",
    "    t[k2] = t.get(k2, []) + [v2]\n",
    "  return t.items()\n",
    "\n",
    "def MapReduce(RECORDREADER, MAP, REDUCE):\n",
    "  return flatten(map(lambda x: REDUCE(*x), groupbykey(flatten(map(lambda x: MAP(*x), RECORDREADER())))))"
   ]
  },
  {
   "cell_type": "markdown",
   "metadata": {
    "id": "iFIVrimep678"
   },
   "source": [
    "## Спецификация MapReduce\n",
    "\n",
    "\n",
    "\n",
    "```\n",
    "f (k1, v1) -> (k2,v2)*\n",
    "g (k2, v2*) -> (k3,v3)*\n",
    " \n",
    "mapreduce ((k1,v1)*) -> (k3,v3)*\n",
    "groupby ((k2,v2)*) -> (k2,v2*)*\n",
    "flatten (e2**) -> e2*\n",
    " \n",
    "mapreduce .map(f).flatten.groupby(k2).map(g).flatten\n",
    "```\n",
    "\n",
    "\n"
   ]
  },
  {
   "cell_type": "markdown",
   "metadata": {
    "id": "QtTFyqke3KGe"
   },
   "source": [
    "# Примеры"
   ]
  },
  {
   "cell_type": "markdown",
   "metadata": {
    "id": "BNhh5763w5Vn"
   },
   "source": [
    "## SQL "
   ]
  },
  {
   "cell_type": "code",
   "execution_count": 14,
   "metadata": {
    "colab": {
     "base_uri": "https://localhost:8080/",
     "height": 34
    },
    "id": "QkyurnvGxBGk",
    "outputId": "84761282-d2ba-435a-e8d7-a85150730e10"
   },
   "outputs": [
    {
     "data": {
      "text/plain": [
       "[(25, 370.0), (33, 800.0)]"
      ]
     },
     "execution_count": 14,
     "metadata": {},
     "output_type": "execute_result"
    }
   ],
   "source": [
    "from typing import NamedTuple # requires python 3.6+\n",
    "from typing import Iterator\n",
    "\n",
    "class User(NamedTuple):\n",
    "  id: int\n",
    "  age: str\n",
    "  social_contacts: int\n",
    "  gender: str\n",
    "    \n",
    "input_collection = [\n",
    "    User(id=0, age=55, gender='male', social_contacts=20),\n",
    "    User(id=1, age=25, gender='female', social_contacts=240),\n",
    "    User(id=2, age=25, gender='female', social_contacts=500),\n",
    "    User(id=3, age=33, gender='female', social_contacts=800)\n",
    "]\n",
    "\n",
    "def MAP(_, row:NamedTuple):\n",
    "  if (row.gender == 'female'):\n",
    "    yield (row.age, row)\n",
    "    \n",
    "def REDUCE(age:str, rows:Iterator[NamedTuple]):\n",
    "  sum = 0\n",
    "  count = 0\n",
    "  for row in rows:\n",
    "    sum += row.social_contacts\n",
    "    count += 1\n",
    "  if (count > 0):\n",
    "    yield (age, sum/count)\n",
    "  else:\n",
    "    yield (age, 0)\n",
    " \n",
    "def RECORDREADER():\n",
    "  return [(u.id, u) for u in input_collection]\n",
    "\n",
    "output = MapReduce(RECORDREADER, MAP, REDUCE)\n",
    "output = list(output)\n",
    "output"
   ]
  },
  {
   "cell_type": "markdown",
   "metadata": {
    "id": "kNKYIeerx0nY"
   },
   "source": [
    "## Matrix-Vector multiplication "
   ]
  },
  {
   "cell_type": "code",
   "execution_count": 15,
   "metadata": {
    "colab": {
     "base_uri": "https://localhost:8080/",
     "height": 102
    },
    "id": "rwcntRcCyi1V",
    "outputId": "606737ab-6b55-455c-931f-4fc45155f8a9"
   },
   "outputs": [
    {
     "data": {
      "text/plain": [
       "[(0, 1.985702460565132),\n",
       " (1, 1.985702460565132),\n",
       " (2, 1.985702460565132),\n",
       " (3, 1.985702460565132),\n",
       " (4, 1.985702460565132)]"
      ]
     },
     "execution_count": 15,
     "metadata": {},
     "output_type": "execute_result"
    }
   ],
   "source": [
    "from typing import Iterator\n",
    "import numpy as np\n",
    "\n",
    "mat = np.ones((5,4))\n",
    "vec = np.random.rand(4) # in-memory vector in all map tasks\n",
    "\n",
    "def MAP(coordinates:(int, int), value:int):\n",
    "  i, j = coordinates\n",
    "  yield (i, value*vec[j])\n",
    " \n",
    "def REDUCE(i:int, products:Iterator[NamedTuple]):\n",
    "  sum = 0\n",
    "  for p in products:\n",
    "    sum += p\n",
    "  yield (i, sum)\n",
    "\n",
    "def RECORDREADER():\n",
    "  for i in range(mat.shape[0]):\n",
    "    for j in range(mat.shape[1]):\n",
    "      yield ((i, j), mat[i,j])\n",
    "      \n",
    "output = MapReduce(RECORDREADER, MAP, REDUCE)\n",
    "output = list(output)\n",
    "output"
   ]
  },
  {
   "cell_type": "markdown",
   "metadata": {
    "id": "ruZREYdi2o4O"
   },
   "source": [
    "## Inverted index "
   ]
  },
  {
   "cell_type": "code",
   "execution_count": 16,
   "metadata": {
    "colab": {
     "base_uri": "https://localhost:8080/",
     "height": 102
    },
    "id": "vt9H9Alf3TYv",
    "outputId": "51aeffc9-e111-4607-bd84-cfcc7b56f238"
   },
   "outputs": [
    {
     "data": {
      "text/plain": [
       "[('what', ['0', '1']),\n",
       " ('it', ['0', '1', '2']),\n",
       " ('is', ['0', '1', '2']),\n",
       " ('banana', ['2']),\n",
       " ('a', ['2'])]"
      ]
     },
     "execution_count": 16,
     "metadata": {},
     "output_type": "execute_result"
    }
   ],
   "source": [
    "from typing import Iterator\n",
    "\n",
    "d1 = \"it is what it is\"\n",
    "d2 = \"what is it\"\n",
    "d3 = \"it is a banana\"\n",
    "documents = [d1, d2, d3]\n",
    "\n",
    "def RECORDREADER():\n",
    "  for (docid, document) in enumerate(documents):\n",
    "    yield (\"{}\".format(docid), document)\n",
    "      \n",
    "def MAP(docId:str, body:str):\n",
    "  for word in set(body.split(' ')):\n",
    "    yield (word, docId)\n",
    " \n",
    "def REDUCE(word:str, docIds:Iterator[str]):\n",
    "  yield (word, sorted(docIds))\n",
    "\n",
    "output = MapReduce(RECORDREADER, MAP, REDUCE)\n",
    "output = list(output)\n",
    "output"
   ]
  },
  {
   "cell_type": "markdown",
   "metadata": {
    "id": "R7az-6DA6qr2"
   },
   "source": [
    "## WordCount"
   ]
  },
  {
   "cell_type": "code",
   "execution_count": 17,
   "metadata": {
    "colab": {
     "base_uri": "https://localhost:8080/",
     "height": 34
    },
    "id": "dN-nbtgG6uYG",
    "outputId": "24117576-7931-401d-a581-28e246b23453"
   },
   "outputs": [
    {
     "data": {
      "text/plain": [
       "[('', 3), ('it', 9), ('is', 9), ('what', 5), ('a', 1), ('banana', 1)]"
      ]
     },
     "execution_count": 17,
     "metadata": {},
     "output_type": "execute_result"
    }
   ],
   "source": [
    "from typing import Iterator\n",
    "\n",
    "d1 = \"\"\"\n",
    "it is what it is\n",
    "it is what it is\n",
    "it is what it is\"\"\"\n",
    "d2 = \"\"\"\n",
    "what is it\n",
    "what is it\"\"\"\n",
    "d3 = \"\"\"\n",
    "it is a banana\"\"\"\n",
    "documents = [d1, d2, d3]\n",
    "\n",
    "def RECORDREADER():\n",
    "  for (docid, document) in enumerate(documents):\n",
    "    for (lineid, line) in enumerate(document.split('\\n')):\n",
    "      yield (\"{}:{}\".format(docid,lineid), line)\n",
    "\n",
    "def MAP(docId:str, line:str):\n",
    "  for word in line.split(\" \"):  \n",
    "    yield (word, 1)\n",
    " \n",
    "def REDUCE(word:str, counts:Iterator[int]):\n",
    "  sum = 0\n",
    "  for c in counts:\n",
    "    sum += c\n",
    "  yield (word, sum)\n",
    "\n",
    "output = MapReduce(RECORDREADER, MAP, REDUCE)\n",
    "output = list(output)\n",
    "output"
   ]
  },
  {
   "cell_type": "markdown",
   "metadata": {
    "id": "h-jRAcYCAkkk"
   },
   "source": [
    "# MapReduce Distributed\n",
    "\n",
    "Добавляется в модель фабрика RECORDREARER-ов --- INPUTFORMAT, функция распределения промежуточных результатов по партициям PARTITIONER, и функция COMBINER для частичной аггрегации промежуточных результатов до распределения по новым партициям."
   ]
  },
  {
   "cell_type": "code",
   "execution_count": 18,
   "metadata": {
    "id": "nw-b-xJsApgW"
   },
   "outputs": [],
   "source": [
    "def flatten(nested_iterable):\n",
    "  for iterable in nested_iterable:\n",
    "    for element in iterable:\n",
    "      yield element\n",
    "\n",
    "def groupbykey(iterable):\n",
    "  t = {}\n",
    "  for (k2, v2) in iterable:\n",
    "    t[k2] = t.get(k2, []) + [v2]\n",
    "  return t.items()\n",
    "      \n",
    "def groupbykey_distributed(map_partitions, PARTITIONER):\n",
    "  global reducers\n",
    "  partitions = [dict() for _ in range(reducers)]\n",
    "  for map_partition in map_partitions:\n",
    "    for (k2, v2) in map_partition:\n",
    "      p = partitions[PARTITIONER(k2)]\n",
    "      p[k2] = p.get(k2, []) + [v2]\n",
    "  return [(partition_id, sorted(partition.items(), key=lambda x: x[0])) for (partition_id, partition) in enumerate(partitions)]\n",
    " \n",
    "def PARTITIONER(obj):\n",
    "  global reducers\n",
    "  return hash(obj) % reducers\n",
    "  \n",
    "def MapReduceDistributed(INPUTFORMAT, MAP, REDUCE, PARTITIONER=PARTITIONER, COMBINER=None):\n",
    "  map_partitions = map(lambda record_reader: flatten(map(lambda k1v1: MAP(*k1v1), record_reader)), INPUTFORMAT())\n",
    "  if COMBINER != None:\n",
    "    map_partitions = map(lambda map_partition: flatten(map(lambda k2v2: COMBINER(*k2v2), groupbykey(map_partition))), map_partitions)\n",
    "  reduce_partitions = groupbykey_distributed(map_partitions, PARTITIONER) # shuffle\n",
    "  reduce_outputs = map(lambda reduce_partition: (reduce_partition[0], flatten(map(lambda reduce_input_group: REDUCE(*reduce_input_group), reduce_partition[1]))), reduce_partitions)\n",
    "  \n",
    "  print(\"{} key-value pairs were sent over a network.\".format(sum([len(vs) for (k,vs) in flatten([partition for (partition_id, partition) in reduce_partitions])])))\n",
    "  return reduce_outputs"
   ]
  },
  {
   "cell_type": "markdown",
   "metadata": {
    "id": "kxirlf3XqZxY"
   },
   "source": [
    "## Спецификация MapReduce Distributed\n",
    "\n",
    "\n",
    "```\n",
    "f (k1, v1) -> (k2,v2)*\n",
    "g (k2, v2*) -> (k3,v3)*\n",
    " \n",
    "e1 (k1, v1)\n",
    "e2 (k2, v2)\n",
    "partition1 (k2, v2)*\n",
    "partition2 (k2, v2*)*\n",
    " \n",
    "flatmap (e1->e2*, e1*) -> partition1*\n",
    "groupby (partition1*) -> partition2*\n",
    "\n",
    "mapreduce ((k1,v1)*) -> (k3,v3)*\n",
    "mapreduce .flatmap(f).groupby(k2).flatmap(g)\n",
    "```\n",
    "\n"
   ]
  },
  {
   "cell_type": "markdown",
   "metadata": {
    "id": "CWYw_CpbbY3C"
   },
   "source": [
    "## WordCount "
   ]
  },
  {
   "cell_type": "code",
   "execution_count": 19,
   "metadata": {
    "colab": {
     "base_uri": "https://localhost:8080/",
     "height": 68
    },
    "id": "uR_zfGFkMZlp",
    "outputId": "c8d46167-473d-43b9-881a-2396991b3731"
   },
   "outputs": [
    {
     "name": "stdout",
     "output_type": "stream",
     "text": [
      "56 key-value pairs were sent over a network.\n"
     ]
    },
    {
     "data": {
      "text/plain": [
       "[(0, [('', 6), ('a', 2), ('it', 18)]),\n",
       " (1, [('banana', 2), ('is', 18), ('what', 10)])]"
      ]
     },
     "execution_count": 19,
     "metadata": {},
     "output_type": "execute_result"
    }
   ],
   "source": [
    "from typing import Iterator\n",
    "import numpy as np\n",
    "\n",
    "d1 = \"\"\"\n",
    "it is what it is\n",
    "it is what it is\n",
    "it is what it is\"\"\"\n",
    "d2 = \"\"\"\n",
    "what is it\n",
    "what is it\"\"\"\n",
    "d3 = \"\"\"\n",
    "it is a banana\"\"\"\n",
    "documents = [d1, d2, d3, d1, d2, d3]\n",
    "\n",
    "maps = 3\n",
    "reducers = 2\n",
    "\n",
    "def INPUTFORMAT():\n",
    "  global maps\n",
    "  \n",
    "  def RECORDREADER(split):\n",
    "    for (docid, document) in enumerate(split):\n",
    "      for (lineid, line) in enumerate(document.split('\\n')):\n",
    "        yield (\"{}:{}\".format(docid,lineid), line)\n",
    "      \n",
    "  split_size =  int(np.ceil(len(documents)/maps))\n",
    "  for i in range(0, len(documents), split_size):\n",
    "    yield RECORDREADER(documents[i:i+split_size])\n",
    "\n",
    "def MAP(docId:str, line:str):\n",
    "  for word in line.split(\" \"):  \n",
    "    yield (word, 1)\n",
    " \n",
    "def REDUCE(word:str, counts:Iterator[int]):\n",
    "  sum = 0\n",
    "  for c in counts:\n",
    "    sum += c\n",
    "  yield (word, sum)\n",
    "  \n",
    "# try to set COMBINER=REDUCER and look at the number of values sent over the network \n",
    "partitioned_output = MapReduceDistributed(INPUTFORMAT, MAP, REDUCE, COMBINER=None) \n",
    "partitioned_output = [(partition_id, list(partition)) for (partition_id, partition) in partitioned_output]\n",
    "partitioned_output"
   ]
  },
  {
   "cell_type": "markdown",
   "metadata": {
    "id": "gCJGx8IQ87xS"
   },
   "source": [
    "## TeraSort"
   ]
  },
  {
   "cell_type": "code",
   "execution_count": 20,
   "metadata": {
    "colab": {
     "base_uri": "https://localhost:8080/",
     "height": 578
    },
    "id": "P2v8v1v_8_YR",
    "outputId": "e0987c25-9757-46cb-8e55-d5d2adfbee2b"
   },
   "outputs": [
    {
     "name": "stdout",
     "output_type": "stream",
     "text": [
      "30 key-value pairs were sent over a network.\n"
     ]
    },
    {
     "data": {
      "text/plain": [
       "[(0,\n",
       "  [(None, 0.045368890548610485),\n",
       "   (None, 0.08693582603366556),\n",
       "   (None, 0.09416228813503458),\n",
       "   (None, 0.12344953941819425),\n",
       "   (None, 0.13449402153780943),\n",
       "   (None, 0.15165248483695193),\n",
       "   (None, 0.18080676495180037),\n",
       "   (None, 0.18765799127233385),\n",
       "   (None, 0.2013944865011813),\n",
       "   (None, 0.3113658393599237),\n",
       "   (None, 0.34836704206406033),\n",
       "   (None, 0.35610647308415666),\n",
       "   (None, 0.4349539187571103),\n",
       "   (None, 0.47093242135181435),\n",
       "   (None, 0.48677143136978207)]),\n",
       " (1,\n",
       "  [(None, 0.5366529970380596),\n",
       "   (None, 0.559155245153181),\n",
       "   (None, 0.5979797558659793),\n",
       "   (None, 0.6251399237171311),\n",
       "   (None, 0.6692382266848474),\n",
       "   (None, 0.6742702462433516),\n",
       "   (None, 0.6972263573494986),\n",
       "   (None, 0.7051452287100761),\n",
       "   (None, 0.788118425821032),\n",
       "   (None, 0.792086883824465),\n",
       "   (None, 0.8289911533645138),\n",
       "   (None, 0.8414719731142087),\n",
       "   (None, 0.8474084163308054),\n",
       "   (None, 0.8752874394040976),\n",
       "   (None, 0.9291944298106183)])]"
      ]
     },
     "execution_count": 20,
     "metadata": {},
     "output_type": "execute_result"
    }
   ],
   "source": [
    "import numpy as np\n",
    "\n",
    "input_values = np.random.rand(30)\n",
    "maps = 3\n",
    "reducers = 2\n",
    "min_value = 0.0\n",
    "max_value = 1.0\n",
    "\n",
    "def INPUTFORMAT():\n",
    "  global maps\n",
    "  \n",
    "  def RECORDREADER(split):\n",
    "    for value in split:\n",
    "        yield (value, None)\n",
    "      \n",
    "  split_size =  int(np.ceil(len(input_values)/maps))\n",
    "  for i in range(0, len(input_values), split_size):\n",
    "    yield RECORDREADER(input_values[i:i+split_size])\n",
    "    \n",
    "def MAP(value:int, _):\n",
    "  yield (value, None)\n",
    "  \n",
    "def PARTITIONER(key):\n",
    "  global reducers\n",
    "  global max_value\n",
    "  global min_value\n",
    "  bucket_size = (max_value-min_value)/reducers\n",
    "  bucket_id = 0\n",
    "  while((key>(bucket_id+1)*bucket_size) and ((bucket_id+1)*bucket_size<max_value)):\n",
    "    bucket_id += 1\n",
    "  return bucket_id\n",
    "\n",
    "def REDUCE(value:int, _):\n",
    "  yield (None,value)\n",
    "  \n",
    "partitioned_output = MapReduceDistributed(INPUTFORMAT, MAP, REDUCE, COMBINER=None, PARTITIONER=PARTITIONER)\n",
    "partitioned_output = [(partition_id, list(partition)) for (partition_id, partition) in partitioned_output]\n",
    "partitioned_output"
   ]
  },
  {
   "cell_type": "code",
   "execution_count": null,
   "metadata": {
    "id": "MQhoJaVZI93G"
   },
   "outputs": [],
   "source": []
  },
  {
   "cell_type": "markdown",
   "metadata": {
    "id": "Iy65YJTH99iT"
   },
   "source": [
    "# Упражнения\n",
    "Упражнения взяты из Rajaraman A., Ullman J. D. Mining of massive datasets. – Cambridge University Press, 2011.\n",
    "\n",
    "\n",
    "Для выполнения заданий переопределите функции RECORDREADER, MAP, REDUCE. Для модели распределённой системы может потребоваться переопределение функций PARTITION и COMBINER."
   ]
  },
  {
   "cell_type": "markdown",
   "metadata": {
    "id": "cfvAeZm3S8S8"
   },
   "source": [
    "### Максимальное значение ряда\n",
    "\n",
    "Разработайте MapReduce алгоритм, который находит максимальное число входного списка чисел."
   ]
  },
  {
   "cell_type": "code",
   "execution_count": 21,
   "metadata": {
    "id": "3GRA1JR-Tkbg"
   },
   "outputs": [
    {
     "data": {
      "text/plain": [
       "[2]"
      ]
     },
     "execution_count": 21,
     "metadata": {},
     "output_type": "execute_result"
    }
   ],
   "source": [
    "\n",
    "\n",
    "list1 = [1, 2, 2, 2, 2]\n",
    "list2 = [1, 'a', 'bb', 'bf4']\n",
    "list3 = [1, 'x', 'y', 12]\n",
    "\n",
    "def RECORDREADER():\n",
    "    yield(0, list1)\n",
    "\n",
    "def MAP(_, elem):\n",
    "    elems = []\n",
    "    for el in elem:\n",
    "        if type(el) == int:\n",
    "            elems.append(el)\n",
    "    yield(0, elems)\n",
    "\n",
    "def REDUCE(_, elem):\n",
    "    maxn = max(elem[0])\n",
    "    yield(maxn)\n",
    "output = MapReduce(RECORDREADER, MAP, REDUCE)\n",
    "output = list(output)\n",
    "output"
   ]
  },
  {
   "cell_type": "markdown",
   "metadata": {
    "id": "k86bXnqZTk-U"
   },
   "source": [
    "### Арифметическое среднее\n",
    "\n",
    "Разработайте MapReduce алгоритм, который находит арифметическое среднее.\n",
    "\n",
    "$$\\overline{X} = \\frac{1}{n}\\sum_{i=0}^{n} x_i$$\n"
   ]
  },
  {
   "cell_type": "code",
   "execution_count": 22,
   "metadata": {
    "id": "MPoY5pkfUNZf"
   },
   "outputs": [
    {
     "data": {
      "text/plain": [
       "[2.4]"
      ]
     },
     "execution_count": 22,
     "metadata": {},
     "output_type": "execute_result"
    }
   ],
   "source": [
    "\n",
    "list1 = [1, 2, 2, 2, 5]\n",
    "list2 = [1, 'a', 'bb', 'bf4']\n",
    "list3 = [1, 'x', 'y', 12]\n",
    "\n",
    "def RECORDREADER():\n",
    "    yield(0, list1)\n",
    "\n",
    "def MAP(_, elem):\n",
    "    elems = []\n",
    "    for el in elem:\n",
    "        if type(el) == int:\n",
    "            elems.append(el)\n",
    "    yield(len(elems), elems)\n",
    "\n",
    "def REDUCE(n, elem):\n",
    "    S = sum(elem[0])\n",
    "    #for i in elem[0]:\n",
    "    #    S += i\n",
    "    yield(S/n)\n",
    "output = MapReduce(RECORDREADER, MAP, REDUCE)\n",
    "output = list(output)\n",
    "output"
   ]
  },
  {
   "cell_type": "markdown",
   "metadata": {
    "id": "xanzszhsIlLe"
   },
   "source": [
    "### GroupByKey на основе сортировки\n",
    "\n",
    "Реализуйте groupByKey на основе сортировки, проверьте его работу на примерах"
   ]
  },
  {
   "cell_type": "code",
   "execution_count": 23,
   "metadata": {
    "id": "hQPn3USsIkEC"
   },
   "outputs": [
    {
     "data": {
      "text/plain": [
       "[(0, [[0, 1, 2]]), (1, [[1, 1, 3]]), (2, [[0, 1, 2]])]"
      ]
     },
     "execution_count": 23,
     "metadata": {},
     "output_type": "execute_result"
    }
   ],
   "source": [
    "input_collection = [[0, 2, 1], [1, 3, 1], [2, 1, 0]]\n",
    "def RECORDREADER():\n",
    "      return [(u[0], u) for u in input_collection]\n",
    "def MAP(idn, el):\n",
    "    yield(idn, el)\n",
    "def flatten(nested_iterable):\n",
    "      for iterable in nested_iterable:\n",
    "        for element in iterable:\n",
    "              yield element\n",
    "map_output = flatten(map(lambda x: MAP(*x), RECORDREADER()))\n",
    "map_output = list(map_output) # materialize\n",
    "def groupbykey(iterable):\n",
    "    t = {}\n",
    "    for (k2, v2) in iterable:\n",
    "        t[k2] = t.get(k2, []) + [v2]\n",
    "        t[k2][0] = sorted(t[k2][0])\n",
    "    return t.items()  \n",
    "    #return [(t_id, sorted(ti)) for (t_id, ti) in enumerate(t)]\n",
    "shuffle_output = groupbykey(map_output)\n",
    "shuffle_output = list(shuffle_output)\n",
    "shuffle_output"
   ]
  },
  {
   "cell_type": "markdown",
   "metadata": {
    "id": "5SgEjCZyGnu6"
   },
   "source": [
    "### Drop duplicates (set construction, unique elements, distinct)\n",
    "\n",
    "Реализуйте распределённую операцию исключения дубликатов"
   ]
  },
  {
   "cell_type": "code",
   "execution_count": 24,
   "metadata": {
    "id": "okjbyApjGhMt"
   },
   "outputs": [
    {
     "data": {
      "text/plain": [
       "[(0, [[0, 2]]), (1, [[1, 3]]), (2, [[0, 2]])]"
      ]
     },
     "execution_count": 24,
     "metadata": {},
     "output_type": "execute_result"
    }
   ],
   "source": [
    "input_collection = [[0, 2, 2], [1, 3, 3], [2, 0, 0]]\n",
    "def RECORDREADER():\n",
    "      return [(u[0], u) for u in input_collection]\n",
    "def MAP(idn, el):\n",
    "    yield(idn, el)\n",
    "def flatten(nested_iterable):\n",
    "      for iterable in nested_iterable:\n",
    "        for element in iterable:\n",
    "              yield element\n",
    "map_output = flatten(map(lambda x: MAP(*x), RECORDREADER()))\n",
    "map_output = list(map_output) # materialize\n",
    "def groupbykey(iterable):\n",
    "    t = {}\n",
    "    for (k2, v2) in iterable:\n",
    "        t[k2] = t.get(k2, []) + [v2]\n",
    "        t[k2][0] = list(set(t[k2][0]))\n",
    "    return t.items()  \n",
    "    #return [(t_id, sorted(ti)) for (t_id, ti) in enumerate(t)]\n",
    "shuffle_output = groupbykey(map_output)\n",
    "shuffle_output = list(shuffle_output)\n",
    "shuffle_output"
   ]
  },
  {
   "cell_type": "markdown",
   "metadata": {
    "id": "e7sRGoTXuJze"
   },
   "source": [
    "#Операторы реляционной алгебры\n",
    "### Selection (Выборка)\n",
    "\n",
    "**The Map Function**: Для  каждого кортежа $t \\in R$ вычисляется истинность предиката $C$. В случае истины создаётся пара ключ-значение $(t, t)$. В паре ключ и значение одинаковы, равны $t$.\n",
    "\n",
    "**The Reduce Function:** Роль функции Reduce выполняет функция идентичности, которая возвращает то же значение, что получила на вход.\n",
    "\n"
   ]
  },
  {
   "cell_type": "code",
   "execution_count": 40,
   "metadata": {
    "id": "4nKIKe59uIfc"
   },
   "outputs": [
    {
     "data": {
      "text/plain": [
       "[(User(id=2, age=35, social_contacts=297, gender='female'), 297.0),\n",
       " (User(id=1, age=32, social_contacts=753, gender='female'), 753.0)]"
      ]
     },
     "execution_count": 40,
     "metadata": {},
     "output_type": "execute_result"
    }
   ],
   "source": [
    "#Select * from users where gender=\"female\" and age > 30;\n",
    "input_collection = [\n",
    "    User(id=2, age=54, gender=\"male\", social_contacts=120),\n",
    "    User(id=0, age=25, gender=\"female\", social_contacts=540),\n",
    "    User(id=3, age=27, gender=\"male\", social_contacts=742),\n",
    "    User(id=1, age=16, gender=\"male\", social_contacts=123),\n",
    "    User(id=2, age=35, gender=\"female\", social_contacts=297),\n",
    "    User(id=3, age=31, gender=\"male\", social_contacts=521),\n",
    "    User(id=1, age=32, gender=\"female\", social_contacts=753),\n",
    "]\n",
    "\n",
    "\n",
    "def MAP(_, row:NamedTuple):\n",
    "    if (row.gender == 'female' and row.age > 30):\n",
    "        yield (row, row)\n",
    "\n",
    "def REDUCE_SELECT(_, rows: NamedTuple):\n",
    "    yield (rows, rows)\n",
    "\n",
    "def RECORDREADER():\n",
    "    return [(u.id, u) for u in input_collection]\n",
    "\n",
    "output = MapReduce(RECORDREADER, MAP, REDUCE)\n",
    "output = list(output)\n",
    "output"
   ]
  },
  {
   "cell_type": "markdown",
   "metadata": {
    "id": "w27Ca-_Ku85V"
   },
   "source": [
    "### Projection (Проекция)\n",
    "\n",
    "Проекция на множество атрибутов $S$.\n",
    "\n",
    "**The Map Function:** Для каждого кортежа $t \\in R$ создайте кортеж $t′$, исключая  из $t$ те значения, атрибуты которых не принадлежат  $S$. Верните пару $(t′, t′)$.\n",
    "\n",
    "**The Reduce Function:** Для каждого ключа $t′$, созданного любой Map задачей, вы получаете одну или несколько пар $(t′, t′)$. Reduce функция преобразует $(t′, [t′, t′, . . . , t′])$ в $(t′, t′)$, так, что для ключа $t′$ возвращается одна пара  $(t′, t′)$."
   ]
  },
  {
   "cell_type": "code",
   "execution_count": 41,
   "metadata": {
    "id": "BEvuY4GqvhS6"
   },
   "outputs": [
    {
     "data": {
      "text/plain": [
       "[('male', 'male'), ('female', 'female')]"
      ]
     },
     "execution_count": 41,
     "metadata": {},
     "output_type": "execute_result"
    }
   ],
   "source": [
    "#Проекция по столбцу gender\n",
    "input_collection = [\n",
    "    User(id=2, age=54, gender=\"male\", social_contacts=120),\n",
    "    User(id=0, age=25, gender=\"female\", social_contacts=540),\n",
    "    User(id=3, age=27, gender=\"male\", social_contacts=742),\n",
    "    User(id=1, age=16, gender=\"male\", social_contacts=123),\n",
    "    User(id=2, age=35, gender=\"female\", social_contacts=297),\n",
    "    User(id=3, age=31, gender=\"male\", social_contacts=521),\n",
    "    User(id=1, age=32, gender=\"female\", social_contacts=753),\n",
    "]\n",
    "\n",
    "def MAP(_, row:NamedTuple):\n",
    "    yield (row.gender, row.gender)\n",
    "\n",
    "def REDUCE(row, rows: NamedTuple):\n",
    "    yield (row, rows[0])\n",
    "\n",
    "def RECORDREADER():\n",
    "  return [(u.id, u) for u in input_collection]\n",
    "\n",
    "output = MapReduce(RECORDREADER, MAP, REDUCE)\n",
    "output = list(output)\n",
    "output"
   ]
  },
  {
   "cell_type": "markdown",
   "metadata": {
    "id": "7gau6lKXvn2R"
   },
   "source": [
    "### Union (Объединение)\n",
    "\n",
    "**The Map Function:** Превратите каждый входной кортеж $t$ в пару ключ-значение $(t, t)$.\n",
    "\n",
    "**The Reduce Function:** С каждым ключом $t$ будет ассоциировано одно или два значений. В обоих случаях создайте $(t, t)$ в качестве выходного значения."
   ]
  },
  {
   "cell_type": "code",
   "execution_count": 42,
   "metadata": {
    "id": "Sns7a5agv3nw"
   },
   "outputs": [
    {
     "data": {
      "text/plain": [
       "[(User(id=2, age=54, social_contacts=120, gender='male'),\n",
       "  User(id=2, age=54, social_contacts=120, gender='male')),\n",
       " (User(id=0, age=25, social_contacts=540, gender='female'),\n",
       "  User(id=0, age=25, social_contacts=540, gender='female')),\n",
       " (User(id=3, age=27, social_contacts=742, gender='male'),\n",
       "  User(id=3, age=27, social_contacts=742, gender='male')),\n",
       " (User(id=3, age=31, social_contacts=521, gender='male'),\n",
       "  User(id=3, age=31, social_contacts=521, gender='male')),\n",
       " (User(id=2, age=35, social_contacts=297, gender='female'),\n",
       "  User(id=2, age=35, social_contacts=297, gender='female')),\n",
       " (User(id=1, age=16, social_contacts=123, gender='male'),\n",
       "  User(id=1, age=16, social_contacts=123, gender='male')),\n",
       " (User(id=1, age=32, social_contacts=753, gender='female'),\n",
       "  User(id=1, age=32, social_contacts=753, gender='female'))]"
      ]
     },
     "execution_count": 42,
     "metadata": {},
     "output_type": "execute_result"
    }
   ],
   "source": [
    "input_collection_a = [\n",
    "    User(id=2, age=54, gender=\"male\", social_contacts=120),\n",
    "    User(id=0, age=25, gender=\"female\", social_contacts=540),\n",
    "    User(id=3, age=27, gender=\"male\", social_contacts=742),\n",
    "    User(id=3, age=31, gender=\"male\", social_contacts=521),\n",
    "    User(id=2, age=35, gender=\"female\", social_contacts=297),\n",
    "    User(id=1, age=16, gender=\"male\", social_contacts=123)\n",
    "]\n",
    "\n",
    "input_collection_b = [\n",
    "    User(id=2, age=35, gender=\"female\", social_contacts=297),\n",
    "    User(id=3, age=31, gender=\"male\", social_contacts=521),\n",
    "    User(id=1, age=32, gender=\"female\", social_contacts=753)\n",
    "]\n",
    "\n",
    "def MAP(_, row:NamedTuple):\n",
    "    yield (row, row)\n",
    "\n",
    "def REDUCE(row, rows: NamedTuple):\n",
    "    yield (row, rows[0])\n",
    "\n",
    "def RECORDREADER():\n",
    "  return [(u.id, u) for u in input_collection_a + input_collection_b]\n",
    "\n",
    "output = MapReduce(RECORDREADER, MAP, REDUCE)\n",
    "output = list(output)\n",
    "output"
   ]
  },
  {
   "cell_type": "markdown",
   "metadata": {
    "id": "dQ8TuEbjv4J8"
   },
   "source": [
    "### Intersection (Пересечение)\n",
    "\n",
    "**The Map Function:** Превратите каждый кортеж $t$ в пары ключ-значение $(t, t)$.\n",
    "\n",
    "**The Reduce Function:** Если для ключа $t$ есть список из двух элементов $[t, t]$ $-$ создайте пару $(t, t)$. Иначе, ничего не создавайте."
   ]
  },
  {
   "cell_type": "code",
   "execution_count": 43,
   "metadata": {
    "id": "XKlBZh4IwERR"
   },
   "outputs": [
    {
     "data": {
      "text/plain": [
       "[(User(id=3, age=31, social_contacts=521, gender='male'),\n",
       "  User(id=3, age=31, social_contacts=521, gender='male')),\n",
       " (User(id=2, age=35, social_contacts=297, gender='female'),\n",
       "  User(id=2, age=35, social_contacts=297, gender='female'))]"
      ]
     },
     "execution_count": 43,
     "metadata": {},
     "output_type": "execute_result"
    }
   ],
   "source": [
    "input_collection_a = [\n",
    "    User(id=2, age=54, gender=\"male\", social_contacts=120),\n",
    "    User(id=0, age=25, gender=\"female\", social_contacts=540),\n",
    "    User(id=3, age=27, gender=\"male\", social_contacts=742),\n",
    "    User(id=3, age=31, gender=\"male\", social_contacts=521),\n",
    "    User(id=2, age=35, gender=\"female\", social_contacts=297),\n",
    "    User(id=1, age=16, gender=\"male\", social_contacts=123)\n",
    "]\n",
    "\n",
    "input_collection_b = [\n",
    "    User(id=2, age=35, gender=\"female\", social_contacts=297),\n",
    "    User(id=3, age=31, gender=\"male\", social_contacts=521),\n",
    "    User(id=1, age=32, gender=\"female\", social_contacts=753)\n",
    "]\n",
    "\n",
    "def MAP(_, row:NamedTuple):\n",
    "    yield (row, row)\n",
    "\n",
    "def REDUCE(row, rows: NamedTuple):\n",
    "  if len(rows) == 2:\n",
    "    yield (row, rows[0])\n",
    "\n",
    "def RECORDREADER():\n",
    "  return [(u.id, u) for u in input_collection_a + input_collection_b]\n",
    "\n",
    "output = MapReduce(RECORDREADER, MAP, REDUCE)\n",
    "output = list(output)\n",
    "output"
   ]
  },
  {
   "cell_type": "markdown",
   "metadata": {
    "id": "AVOpqoY3wE5k"
   },
   "source": [
    "### Difference (Разница)\n",
    "\n",
    "**The Map Function:** Для кортежа $t \\in R$, создайте пару $(t, R)$, и для кортежа $t \\in S$, создайте пару $(t, S)$. Задумка заключается в том, чтобы значение пары было именем отношения $R$ or $S$, которому принадлежит кортеж (а лучше, единичный бит, по которому можно два отношения различить $R$ or $S$), а не весь набор атрибутов отношения.\n",
    "\n",
    "**The Reduce Function:** Для каждого ключа $t$, если соответствующее значение является списком $[R]$, создайте пару $(t, t)$. В иных случаях не предпринимайте действий."
   ]
  },
  {
   "cell_type": "code",
   "execution_count": 44,
   "metadata": {
    "id": "QE_AC09lwZIZ"
   },
   "outputs": [
    {
     "data": {
      "text/plain": [
       "[(User(id=2, age=54, social_contacts=120, gender='male'),\n",
       "  User(id=2, age=54, social_contacts=120, gender='male')),\n",
       " (User(id=0, age=25, social_contacts=540, gender='female'),\n",
       "  User(id=0, age=25, social_contacts=540, gender='female')),\n",
       " (User(id=3, age=27, social_contacts=742, gender='male'),\n",
       "  User(id=3, age=27, social_contacts=742, gender='male')),\n",
       " (User(id=1, age=16, social_contacts=123, gender='male'),\n",
       "  User(id=1, age=16, social_contacts=123, gender='male'))]"
      ]
     },
     "execution_count": 44,
     "metadata": {},
     "output_type": "execute_result"
    }
   ],
   "source": [
    "input_collection_a = [\n",
    "    User(id=2, age=54, gender=\"male\", social_contacts=120),\n",
    "    User(id=0, age=25, gender=\"female\", social_contacts=540),\n",
    "    User(id=3, age=27, gender=\"male\", social_contacts=742),\n",
    "    User(id=3, age=31, gender=\"male\", social_contacts=521),\n",
    "    User(id=2, age=35, gender=\"female\", social_contacts=297),\n",
    "    User(id=1, age=16, gender=\"male\", social_contacts=123)\n",
    "]\n",
    "\n",
    "input_collection_b = [\n",
    "    User(id=2, age=35, gender=\"female\", social_contacts=297),\n",
    "    User(id=3, age=31, gender=\"male\", social_contacts=521),\n",
    "    User(id=1, age=32, gender=\"female\", social_contacts=753)\n",
    "]\n",
    "def MAP(_, row:NamedTuple):\n",
    "  if row in input_collection_b:\n",
    "    yield (row, 'S')\n",
    "  if row in input_collection_a:\n",
    "    yield (row, 'R')\n",
    "\n",
    "def REDUCE(row, charic):\n",
    "  if charic[0] == 'R':\n",
    "    yield (row, row)\n",
    "\n",
    "def RECORDREADER():\n",
    "  return [(u.id, u) for u in input_collection_a + input_collection_b]\n",
    "\n",
    "output = MapReduce(RECORDREADER, MAP, REDUCE)\n",
    "output = list(output)\n",
    "output"
   ]
  },
  {
   "cell_type": "markdown",
   "metadata": {
    "id": "j8I58V2VwhSm"
   },
   "source": [
    "### Natural Join\n",
    "\n",
    "**The Map Function:** Для каждого кортежа $(a, b)$ отношения $R$, создайте пару $(b,(R, a))$. Для каждого кортежа $(b, c)$ отношения $S$, создайте пару $(b,(S, c))$.\n",
    "\n",
    "**The Reduce Function:** Каждый ключ $b$ будет асоциирован со списком пар, которые принимают форму либо $(R, a)$, либо $(S, c)$. Создайте все пары, одни, состоящие из  первого компонента $R$, а другие, из первого компонента $S$, то есть $(R, a)$ и $(S, c)$. На выходе вы получаете последовательность пар ключ-значение из списков ключей и значений. Ключ не нужен. Каждое значение, это тройка $(a, b, c)$ такая, что $(R, a)$ и $(S, c)$ это принадлежат входному списку значений."
   ]
  },
  {
   "cell_type": "code",
   "execution_count": 45,
   "metadata": {
    "id": "yHiuuTctw86I"
   },
   "outputs": [
    {
     "data": {
      "text/plain": [
       "[(None, ((27, 'male', 742), 3, (899080, 'None'))),\n",
       " (None, ((35, 'female', 297), 2, (763672, 'None'))),\n",
       " (None, ((16, 'male', 123), 1, (708090, 'None')))]"
      ]
     },
     "execution_count": 45,
     "metadata": {},
     "output_type": "execute_result"
    }
   ],
   "source": [
    "input_collection_a = [\n",
    "    User(id=5, age=54, gender=\"male\", social_contacts=120),\n",
    "    User(id=0, age=25, gender=\"female\", social_contacts=540),\n",
    "    User(id=3, age=27, gender=\"male\", social_contacts=742),\n",
    "    User(id=4, age=31, gender=\"male\", social_contacts=521),\n",
    "    User(id=2, age=35, gender=\"female\", social_contacts=297),\n",
    "    User(id=1, age=16, gender=\"male\", social_contacts=123)\n",
    "]\n",
    "\n",
    "class User_Tel(NamedTuple):\n",
    "  id: int\n",
    "  tel: int\n",
    "  info: str\n",
    "\n",
    "input_collection_b = [\n",
    "    User_Tel(id=2, tel=763672, info=\"None\"),\n",
    "    User_Tel(id=3, tel=899080, info=\"None\"),\n",
    "    User_Tel(id=1, tel=708090, info=\"None\"),\n",
    "    User_Tel(id=10, tel=708090, info=\"None\"),\n",
    "]\n",
    "\n",
    "def MAP(_, row:NamedTuple):\n",
    "  if row in input_collection_a and row.id in [r.id for r in input_collection_b]:\n",
    "    yield (row.id, ('R', (row.age, row.gender, row.social_contacts)))\n",
    "  elif row in input_collection_b and row.id in [r.id for r in input_collection_a]:\n",
    "    yield (row.id, ('S', (row.tel, row.info)))\n",
    "\n",
    "\n",
    "def REDUCE(row, charic):\n",
    "  for i in range(len(charic)):\n",
    "    for j in range(len(charic)):\n",
    "      if charic[i][0] == 'R' and charic[j][0] == 'S':\n",
    "        yield (None, (charic[i][1], row, charic[j][1]))\n",
    "\n",
    "def RECORDREADER():\n",
    "  return [(u.id, u) for u in input_collection_a + input_collection_b]\n",
    "\n",
    "output = MapReduce(RECORDREADER, MAP, REDUCE)\n",
    "output = list(output)\n",
    "output"
   ]
  },
  {
   "cell_type": "markdown",
   "metadata": {
    "id": "kYdlr0YUxE27"
   },
   "source": [
    "### Grouping and Aggregation (Группировка и аггрегация)\n",
    "\n",
    "**The Map Function:** Для каждого кортежа $(a, b, c$) создайте пару $(a, b)$.\n",
    "\n",
    "**The Reduce Function:** Ключ представляет ту или иную группу. Примение аггрегирующую операцию $\\theta$ к списку значений $[b1, b2, . . . , bn]$ ассоциированных с ключом $a$. Возвращайте в выходной поток $(a, x)$, где $x$ результат применения  $\\theta$ к списку. Например, если $\\theta$ это $SUM$, тогда $x = b1 + b2 + · · · + bn$, а если $\\theta$ is $MAX$, тогда $x$ это максимальное из значений $b1, b2, . . . , bn$."
   ]
  },
  {
   "cell_type": "code",
   "execution_count": 46,
   "metadata": {
    "id": "MLPckfEGxico"
   },
   "outputs": [
    {
     "data": {
      "text/plain": [
       "[('male', 742), ('female', 540)]"
      ]
     },
     "execution_count": 46,
     "metadata": {},
     "output_type": "execute_result"
    }
   ],
   "source": [
    "input_collection_a = [\n",
    "    User(id=5, age=54, gender=\"male\", social_contacts=120),\n",
    "    User(id=0, age=25, gender=\"female\", social_contacts=540),\n",
    "    User(id=3, age=27, gender=\"male\", social_contacts=742),\n",
    "    User(id=4, age=31, gender=\"male\", social_contacts=521),\n",
    "    User(id=2, age=35, gender=\"female\", social_contacts=297),\n",
    "    User(id=1, age=16, gender=\"male\", social_contacts=123)\n",
    "]\n",
    "\n",
    "def MAP(_, row:NamedTuple):\n",
    "  yield (row.gender, row.social_contacts)\n",
    "\n",
    "def REDUCE(row, charic): #GROUP BY USER.GENDER HAVING MAX(USER.SOCIAL_CONTACTS)\n",
    "  yield (row, max(charic))\n",
    "\n",
    "def RECORDREADER():\n",
    "  return [(u.id, u) for u in input_collection_a]\n",
    "\n",
    "output = MapReduce(RECORDREADER, MAP, REDUCE)\n",
    "output = list(output)\n",
    "output"
   ]
  },
  {
   "cell_type": "markdown",
   "metadata": {
    "id": "03IffTEOJgOb"
   },
   "source": [
    "# "
   ]
  },
  {
   "cell_type": "markdown",
   "metadata": {
    "id": "IIrRgvG4RIS4"
   },
   "source": [
    "### Matrix-Vector multiplication\n",
    "\n",
    "Случай, когда вектор не помещается в памяти Map задачи\n"
   ]
  },
  {
   "cell_type": "code",
   "execution_count": null,
   "metadata": {
    "id": "KQhDbiL3zS9r"
   },
   "outputs": [],
   "source": []
  },
  {
   "cell_type": "markdown",
   "metadata": {
    "id": "GIo2t7nNxvA9"
   },
   "source": [
    "## Matrix multiplication (Перемножение матриц)\n",
    "\n",
    "Если у нас есть матрица $M$ с элементами $m_{ij}$ в строке $i$ и столбце $j$, и матрица $N$ с элементами $n_{jk}$ в строке $j$ и столбце $k$, тогда их произведение $P = MN$ есть матрица $P$ с элементами $p_{ik}$ в строке $i$ и столбце $k$, где\n",
    "\n",
    "$$p_{ik} =\\sum_{j} m_{ij}n_{jk}$$\n",
    "\n",
    "Необходимым требованием является одинаковое количество столбцов в $M$ и строк в $N$, чтобы операция суммирования по  $j$ была осмысленной. Мы можем размышлять о матрице, как об отношении с тремя атрибутами: номер строки, номер столбца, само значение. Таким образом матрица $M$ предстваляется как отношение $ M(I, J, V )$, с кортежами $(i, j, m_{ij})$, и, аналогично, матрица $N$ представляется как отношение $N(J, K, W)$, с кортежами $(j, k, n_{jk})$. Так как большие матрицы как правило разреженные (большинство значений равно 0), и так как мы можем нулевыми значениями пренебречь (не хранить), такое реляционное представление достаточно эффективно для больших матриц. Однако, возможно, что координаты $i$, $j$, и $k$ неявно закодированы в смещение позиции элемента относительно начала файла, вместо явного хранения. Тогда, функция Map (или Reader) должна быть разработана таким образом, чтобы реконструировать компоненты $I$, $J$, и $K$ кортежей из смещения.\n",
    "\n",
    "Произведение $MN$ это фактически join, за которым следуют группировка по ключу и аггрегация. Таким образом join отношений $M(I, J, V )$ и $N(J, K, W)$, имеющих общим только атрибут $J$, создаст кортежи $(i, j, k, v, w)$ из каждого кортежа $(i, j, v) \\in M$ и кортежа $(j, k, w) \\in N$. Такой 5 компонентный кортеж представляет пару элементов матрицы $(m_{ij} , n_{jk})$. Что нам хотелось бы получить на самом деле, это произведение этих элементов, то есть, 4 компонентный кортеж$(i, j, k, v \\times w)$, так как он представляет произведение $m_{ij}n_{jk}$. Мы представляем отношение как результат одной MapReduce операции, в которой мы можем произвести группировку и аггрегацию, с $I$ и $K$  атрибутами, по которым идёт группировка, и суммой  $V \\times W$. \n",
    "\n",
    "\n",
    "\n"
   ]
  },
  {
   "cell_type": "code",
   "execution_count": 47,
   "metadata": {
    "id": "1MBkGaLAYVCt"
   },
   "outputs": [],
   "source": [
    "# MapReduce model\n",
    "def flatten(nested_iterable):\n",
    "  for iterable in nested_iterable:\n",
    "    for element in iterable:\n",
    "      yield element\n",
    "\n",
    "def groupbykey(iterable):\n",
    "  t = {}\n",
    "  for (k2, v2) in iterable:\n",
    "    t[k2] = t.get(k2, []) + [v2]\n",
    "  return t.items()\n",
    "\n",
    "def MapReduce(RECORDREADER, MAP, REDUCE):\n",
    "  return flatten(map(lambda x: REDUCE(*x), groupbykey(flatten(map(lambda x: MAP(*x), RECORDREADER())))))"
   ]
  },
  {
   "cell_type": "markdown",
   "metadata": {
    "id": "sMspsOT0ZB35"
   },
   "source": [
    "Реализуйте перемножение матриц с использованием модельного кода MapReduce для одной машины в случае, когда одна матрица хранится в памяти, а другая генерируется RECORDREADER-ом."
   ]
  },
  {
   "cell_type": "code",
   "execution_count": 48,
   "metadata": {
    "id": "psP1XekbsEjS"
   },
   "outputs": [
    {
     "data": {
      "text/plain": [
       "[((0, 0), 0.2651847269402926),\n",
       " ((1, 0), 0.35321751869903395),\n",
       " ((0, 1), 0.5992016587948666),\n",
       " ((1, 1), 0.9093857153126474),\n",
       " ((0, 2), 0.39185446259859197),\n",
       " ((1, 2), 0.41195074919707286),\n",
       " ((0, 3), 0.40311661316563024),\n",
       " ((1, 3), 0.7534511515357474),\n",
       " ((0, 4), 0.3978834619616908),\n",
       " ((1, 4), 0.316132707135748),\n",
       " ((0, 5), 0.5768727031888764),\n",
       " ((1, 5), 1.082407521450127),\n",
       " ((0, 6), 0.11513551520488448),\n",
       " ((1, 6), 0.6140178489645312),\n",
       " ((0, 7), 0.5595203426089735),\n",
       " ((1, 7), 0.9020896231954509),\n",
       " ((0, 8), 0.3106103470163357),\n",
       " ((1, 8), 0.1986684481250151),\n",
       " ((0, 9), 0.8553113249930392),\n",
       " ((1, 9), 0.9701216998190891),\n",
       " ((0, 10), 0.4070211235448421),\n",
       " ((1, 10), 0.5204584165615396),\n",
       " ((0, 11), 0.6536555676884832),\n",
       " ((1, 11), 0.8234258889321839),\n",
       " ((0, 12), 0.6061231764776503),\n",
       " ((1, 12), 0.679453343363557),\n",
       " ((0, 13), 0.49903670805466405),\n",
       " ((1, 13), 1.1009612337927992),\n",
       " ((0, 14), 1.1362701007718106),\n",
       " ((1, 14), 0.8956563240093172),\n",
       " ((0, 15), 0.26703596185956047),\n",
       " ((1, 15), 0.26953877408813487),\n",
       " ((0, 16), 0.9318831124928015),\n",
       " ((1, 16), 1.0716568449040242),\n",
       " ((0, 17), 0.4338240942809713),\n",
       " ((1, 17), 0.6709293324371142),\n",
       " ((0, 18), 0.9105430071677096),\n",
       " ((1, 18), 1.2189028682869552),\n",
       " ((0, 19), 1.0741696426537568),\n",
       " ((1, 19), 1.361306689908344),\n",
       " ((0, 20), 0.9578671766438263),\n",
       " ((1, 20), 1.037457555541529),\n",
       " ((0, 21), 0.48257854206159084),\n",
       " ((1, 21), 0.6296596865329193),\n",
       " ((0, 22), 0.49387489726185396),\n",
       " ((1, 22), 0.9227607209099007),\n",
       " ((0, 23), 0.8342308659909627),\n",
       " ((1, 23), 0.6530510585211594),\n",
       " ((0, 24), 0.49704293830547147),\n",
       " ((1, 24), 0.7190618302236111),\n",
       " ((0, 25), 0.5387316426554698),\n",
       " ((1, 25), 0.8039500086244531),\n",
       " ((0, 26), 0.7064136532053571),\n",
       " ((1, 26), 0.7566707504369721),\n",
       " ((0, 27), 0.7044574259688734),\n",
       " ((1, 27), 0.3174310601178896),\n",
       " ((0, 28), 0.7451771429780218),\n",
       " ((1, 28), 0.5766532190353947),\n",
       " ((0, 29), 0.9080330765088372),\n",
       " ((1, 29), 1.073183341142493),\n",
       " ((0, 30), 0.25971861195924995),\n",
       " ((1, 30), 0.4345104956341624),\n",
       " ((0, 31), 0.58976039532691),\n",
       " ((1, 31), 0.9722383893910758),\n",
       " ((0, 32), 0.48114824673240253),\n",
       " ((1, 32), 0.6581104438815621),\n",
       " ((0, 33), 0.1690948057865811),\n",
       " ((1, 33), 0.7665071089724393),\n",
       " ((0, 34), 0.3302975001236562),\n",
       " ((1, 34), 0.4382608584881461),\n",
       " ((0, 35), 0.7119043007567404),\n",
       " ((1, 35), 0.4768855763735976),\n",
       " ((0, 36), 0.4918626060512183),\n",
       " ((1, 36), 0.25091308692773284),\n",
       " ((0, 37), 0.2748421858801001),\n",
       " ((1, 37), 0.9863235568049142),\n",
       " ((0, 38), 0.8361710278689706),\n",
       " ((1, 38), 1.3103179149343838),\n",
       " ((0, 39), 0.4010111488228716),\n",
       " ((1, 39), 0.6659463487477467)]"
      ]
     },
     "execution_count": 48,
     "metadata": {},
     "output_type": "execute_result"
    }
   ],
   "source": [
    "import numpy as np\n",
    "I = 2\n",
    "J = 3\n",
    "K = 4*10\n",
    "small_mat = np.random.rand(I,J) # it is legal to access this from RECORDREADER, MAP, REDUCE\n",
    "big_mat = np.random.rand(J,K)\n",
    "\n",
    "def RECORDREADER():\n",
    "  for j in range(big_mat.shape[0]):\n",
    "    for k in range(big_mat.shape[1]):\n",
    "      yield ((j,k), big_mat[j,k])\n",
    "      \n",
    "def MAP(k1, v1):\n",
    "    (j, k) = k1\n",
    "    w = v1\n",
    "    for i in range(len(small_mat)):\n",
    "        yield((i,k), w)\n",
    "  # solution code that yield(k2,v2) pairs\n",
    "  \n",
    "def REDUCE(key, values):\n",
    "    (i, k) = key\n",
    "    val = 0\n",
    "    for j in range(J):\n",
    "        val += small_mat[i, j] * values[j]\n",
    "    yield((i,k), val)\n",
    "  # solution code that yield(k3,v3) pairs\n",
    "output = MapReduce(RECORDREADER, MAP, REDUCE)\n",
    "output = list(output)\n",
    "output"
   ]
  },
  {
   "cell_type": "markdown",
   "metadata": {
    "id": "rnt306LHhHrm"
   },
   "source": [
    "Проверьте своё решение"
   ]
  },
  {
   "cell_type": "code",
   "execution_count": 49,
   "metadata": {
    "colab": {
     "base_uri": "https://localhost:8080/",
     "height": 34
    },
    "id": "Ewy_ZNYqW5a2",
    "outputId": "9ce264f2-9412-44e2-9b0a-cc780573ab3a"
   },
   "outputs": [
    {
     "data": {
      "text/plain": [
       "True"
      ]
     },
     "execution_count": 49,
     "metadata": {},
     "output_type": "execute_result"
    }
   ],
   "source": [
    "# CHECK THE SOLUTION\n",
    "reference_solution = np.matmul(small_mat, big_mat) \n",
    "solution = MapReduce(RECORDREADER, MAP, REDUCE)\n",
    "\n",
    "def asmatrix(reduce_output):\n",
    "  reduce_output = list(reduce_output)\n",
    "  I = max(i for ((i,k), vw) in reduce_output)+1\n",
    "  K = max(k for ((i,k), vw) in reduce_output)+1\n",
    "  mat = np.empty(shape=(I,K))\n",
    "  for ((i,k), vw) in reduce_output:\n",
    "    mat[i,k] = vw\n",
    "  return mat\n",
    "\n",
    "np.allclose(reference_solution, asmatrix(solution)) # should return true"
   ]
  },
  {
   "cell_type": "code",
   "execution_count": 50,
   "metadata": {
    "colab": {
     "base_uri": "https://localhost:8080/",
     "height": 34
    },
    "id": "TK7v4CEcfxqf",
    "outputId": "2c865d0a-4065-4e6b-c83f-5508ed5eb4fa"
   },
   "outputs": [
    {
     "data": {
      "text/plain": [
       "1"
      ]
     },
     "execution_count": 50,
     "metadata": {},
     "output_type": "execute_result"
    }
   ],
   "source": [
    "reduce_output = list(MapReduce(RECORDREADER, MAP, REDUCE))\n",
    "max(i for ((i,k), vw) in reduce_output)"
   ]
  },
  {
   "cell_type": "markdown",
   "metadata": {
    "id": "i4yyg3kOZqJJ"
   },
   "source": [
    "Реализуйте перемножение матриц  с использованием модельного кода MapReduce для одной машины в случае, когда обе матрицы генерируются в RECORDREADER. Например, сначала одна, а потом другая."
   ]
  },
  {
   "cell_type": "code",
   "execution_count": 51,
   "metadata": {
    "id": "3B7rIAJCaHZq"
   },
   "outputs": [
    {
     "name": "stdout",
     "output_type": "stream",
     "text": [
      "[[0.24544599 0.43937236 0.77560741]\n",
      " [0.4124602  0.94804599 0.28026343]]\n",
      "[[0.25667778 0.77839921 0.86066041 0.56518773]\n",
      " [0.11834276 0.98399998 0.50127133 0.91972493]\n",
      " [0.23990687 0.04398498 0.54700828 0.53986111]]\n",
      "[[0.30107062 0.65751243 0.85575409 0.96154505]\n",
      " [0.28530086 1.2662633  0.98352285 1.2563623 ]]\n"
     ]
    },
    {
     "data": {
      "text/plain": [
       "[((0, 0), 0.3010706154194078),\n",
       " ((0, 1), 0.657512431577875),\n",
       " ((0, 2), 0.8557540855905859),\n",
       " ((0, 3), 0.9615450508867021),\n",
       " ((1, 0), 0.2853008633724757),\n",
       " ((1, 1), 1.2662633036533022),\n",
       " ((1, 2), 0.9835228463326523),\n",
       " ((1, 3), 1.2563622966422565)]"
      ]
     },
     "execution_count": 51,
     "metadata": {},
     "output_type": "execute_result"
    }
   ],
   "source": [
    "I = 2 \n",
    "J = 3\n",
    "K = 4\n",
    "small_mat = np.random.rand(I,J)\n",
    "big_mat = np.random.rand(J,K)\n",
    "print(small_mat)\n",
    "print(big_mat)\n",
    "reference_solution = np.matmul(small_mat, big_mat) \n",
    "print(reference_solution)\n",
    "def RECORDREADER():\n",
    "    for j in range(small_mat.shape[0]):\n",
    "        for k in range(small_mat.shape[1]):\n",
    "            yield ((0, big_mat.shape[1], small_mat.shape[1], j,k), small_mat[j,k])\n",
    "    for j in range(big_mat.shape[0]):\n",
    "        for k in range(big_mat.shape[1]):\n",
    "            yield ((1, small_mat.shape[0], big_mat.shape[0], j,k), big_mat[j,k])\n",
    "\n",
    "def MAP(k1, v1):\n",
    "    (n, b, a, j, k) = k1\n",
    "    w = v1\n",
    "    if n == 0:\n",
    "        for i in range(b):\n",
    "            yield((a, j, i), w)\n",
    "    else:\n",
    "        for i in range(b):\n",
    "            yield((a, i, k), w)\n",
    "    \n",
    "\n",
    "def REDUCE(key, values):\n",
    "    (a, i, k) = key\n",
    "    s = 0\n",
    "    for j in range(int(len(values)/2)):\n",
    "        s += values[j]*values[j+a]\n",
    "    yield((i,k), s)\n",
    "  # solution code that yield(k3,v3) pairs\n",
    "output = MapReduce(RECORDREADER, MAP, REDUCE)\n",
    "output = list(output)\n",
    "output"
   ]
  },
  {
   "cell_type": "markdown",
   "metadata": {
    "id": "mXyzQi1DaIwo"
   },
   "source": [
    "Реализуйте перемножение матриц с использованием модельного кода MapReduce Distributed, когда каждая матрица генерируется в своём RECORDREADER. "
   ]
  },
  {
   "cell_type": "code",
   "execution_count": 52,
   "metadata": {
    "id": "TDM_s78Rb5eR"
   },
   "outputs": [
    {
     "name": "stdout",
     "output_type": "stream",
     "text": [
      "[[0.28645248 0.39764924 0.79799559]\n",
      " [0.56681792 0.76683925 0.44909423]]\n",
      "[[0.85154999 0.38008325 0.98223867 0.29051172]\n",
      " [0.99872709 0.03445472 0.48005651 0.87036503]\n",
      " [0.9295752  0.99791774 0.69713854 0.03251766]]\n",
      "[[1.38286859 0.91891064 1.02857229 0.45526674]\n",
      " [1.66600378 0.69001832 1.23795754 0.8467008 ]]\n",
      "48 key-value pairs were sent over a network.\n",
      "[0.28645247823378994, 0.397649243304676, 0.7979955934419729, 0.8515499931122675, 0.9987270864466207, 0.9295751953881337]\n",
      "[0.28645247823378994, 0.397649243304676, 0.7979955934419729, 0.3800832488658744, 0.03445471560546898, 0.9979177369857298]\n",
      "[0.5668179151641699, 0.7668392482734478, 0.9822386680429351, 0.44909423359947764, 0.48005651078190703, 0.6971385359141465]\n",
      "[0.5668179151641699, 0.7668392482734478, 0.8703650276134287, 0.44909423359947764, 0.2905117218286932, 0.03251765620711555]\n",
      "[0.28645247823378994, 0.397649243304676, 0.7979955934419729, 0.9822386680429351, 0.48005651078190703, 0.6971385359141465]\n",
      "[0.28645247823378994, 0.397649243304676, 0.7979955934419729, 0.8703650276134287, 0.2905117218286932, 0.03251765620711555]\n",
      "[0.5668179151641699, 0.7668392482734478, 0.9987270864466207, 0.8515499931122675, 0.44909423359947764, 0.9295751953881337]\n",
      "[0.5668179151641699, 0.7668392482734478, 0.03445471560546898, 0.44909423359947764, 0.3800832488658744, 0.9979177369857298]\n"
     ]
    },
    {
     "data": {
      "text/plain": [
       "[(0,\n",
       "  [((0, 0), 1.3828685857530498),\n",
       "   ((0, 1), 0.9189106368937707),\n",
       "   ((1, 2), 1.237957544369525),\n",
       "   ((1, 3), 0.8467008038890594)]),\n",
       " (1,\n",
       "  [((0, 2), 1.0285722886119415),\n",
       "   ((0, 3), 0.45526674366546716),\n",
       "   ((1, 0), 1.6660037799009348),\n",
       "   ((1, 1), 0.6900183242122839)])]"
      ]
     },
     "execution_count": 52,
     "metadata": {},
     "output_type": "execute_result"
    }
   ],
   "source": [
    "I = 2\n",
    "J = 3\n",
    "K = 4\n",
    "small_mat = np.random.rand(I,J)\n",
    "big_mat = np.random.rand(J,K)\n",
    "print(small_mat)\n",
    "print(big_mat)\n",
    "reference_solution = np.matmul(small_mat, big_mat) \n",
    "print(reference_solution)\n",
    "\n",
    "def INPUTFORMAT():\n",
    "        \n",
    "    def RECORDREADER(m1, m2, a, b):\n",
    "        #print(m1,m2)\n",
    "        for j in range(m1.shape[0]):\n",
    "            for k in range(m1.shape[1]):\n",
    "                yield ((0, a, b, m2.shape[1], m1.shape[1], j,k), m1[j,k])\n",
    "        for j in range(m2.shape[0]):\n",
    "            for k in range(m2.shape[1]):\n",
    "                yield ((1, a, b, m1.shape[0], m2.shape[0], j,k), m2[j,k])\n",
    "    \n",
    "    size =  1\n",
    "    for i in range(0, len(small_mat), size):\n",
    "        for j in range(0, len(big_mat[0]), size):\n",
    "            yield RECORDREADER(small_mat[i:i+size, :], big_mat[:, j:j+size], i, j)\n",
    "\n",
    "\n",
    "\n",
    "def MAP(k1, v1):\n",
    "    (n, a, b, A, B, j, k) = k1\n",
    "    #print(a, b, A, B)\n",
    "    w = v1\n",
    "    if n == 0:\n",
    "        for i in range(A):\n",
    "            yield((B, a, b), w)\n",
    "    else:\n",
    "        for i in range(A):\n",
    "            yield((B, a, b), w)\n",
    "    \n",
    "\n",
    "def REDUCE(key, values):\n",
    "    (a, i, k) = key\n",
    "    print(list(set(values)))\n",
    "    s = 0\n",
    "    for j in range(int(len(values)/2)):\n",
    "        s += values[j]*values[j+a]\n",
    "    yield((i,k), s)\n",
    "  # solution code that yield(k3,v3) pairs\n",
    "#output = MapReduce(RECORDREADER, MAP, REDUCE)\n",
    "#output = list(output)\n",
    "#output\n",
    "partitioned_output = MapReduceDistributed(INPUTFORMAT, MAP, REDUCE, COMBINER=None) \n",
    "partitioned_output = [(partition_id, list(partition)) for (partition_id, partition) in partitioned_output]\n",
    "partitioned_output"
   ]
  },
  {
   "cell_type": "markdown",
   "metadata": {
    "id": "ZuSA2P9Db6UM"
   },
   "source": [
    "Обобщите предыдущее решение на случай, когда каждая матрица генерируется несколькими RECORDREADER-ами, и проверьте его работоспособность. Будет ли работать решение, если RECORDREADER-ы будут генерировать случайное подмножество элементов матрицы?"
   ]
  },
  {
   "cell_type": "code",
   "execution_count": 53,
   "metadata": {
    "id": "ehN0FqRDcwU5"
   },
   "outputs": [
    {
     "name": "stdout",
     "output_type": "stream",
     "text": [
      "126 key-value pairs were sent over a network.\n",
      "[(0, [((0, 0), 0.3812178295725516), ((0, 1), 0.14522649430723028), ((0, 2), 0.17841535208294093), ((0, 3), 0.26742054423528844), ((0, 4), 0.3786466633271507), ((0, 5), 0.24013040905323302), ((0, 6), 0.13126799715635665), ((0, 7), 0.10938521652893331), ((0, 8), 0.6200811434217469), ((0, 9), 0.40659007233374733), ((0, 10), 0.15889779008049423), ((0, 11), 0.15396832457737444), ((0, 12), 0.19855771073016193), ((0, 13), 0.4495527793704409), ((0, 14), 0.06670524122243732), ((0, 15), 0.5808215601268693), ((0, 16), 0.1743052541921276), ((0, 17), 0.41238285607057257), ((0, 18), 0.6224784470851074), ((0, 19), 0.041528279919156634), ((0, 20), 0.17114120306866992), ((0, 21), 0.20406614811110108), ((0, 22), 0.5471082518676902), ((0, 23), 0.2310499969638958), ((0, 24), 0.2542986403239763), ((0, 25), 0.19537733095336787), ((0, 26), 0.39910727676369673), ((0, 27), 0.5853093627891998), ((0, 28), 0.18210096928279346), ((0, 29), 0.0743255177881592), ((0, 30), 0.3035846568879883), ((0, 31), 0.3771694784825592), ((0, 32), 0.3781167082727774), ((0, 33), 0.6633454057374422), ((0, 34), 0.5917233707912793), ((0, 35), 0.1788351527408774), ((0, 36), 0.25914267886437126), ((0, 37), 0.11412256355587973), ((0, 38), 0.6292506464155532), ((0, 39), 0.36197167605476505), ((1, 0), 0.04958399173144037), ((1, 1), 0.018889224832400797), ((1, 2), 0.023206011514104515), ((1, 3), 0.034782680728883075), ((1, 4), 0.04924956695913875), ((1, 5), 0.031233125245777326), ((1, 6), 0.017073680139519296), ((1, 7), 0.014227444917762481), ((1, 8), 0.08065230926559937), ((1, 9), 0.052884092035483984), ((1, 10), 0.020667414004034455), ((1, 11), 0.0200262515037884), ((1, 12), 0.025825874666190997), ((1, 13), 0.05847213736079396), ((1, 14), 0.008676173758519331), ((1, 15), 0.07554591942109572), ((1, 16), 0.022671421985430037), ((1, 17), 0.053637544048027126), ((1, 18), 0.08096412019310792), ((1, 19), 0.005401473195630053), ((1, 20), 0.022259882249947852), ((1, 21), 0.02654234250258757), ((1, 22), 0.07116091885636086), ((1, 23), 0.03005206013541611), ((1, 24), 0.03307594949921107), ((1, 25), 0.025412211106088847), ((1, 26), 0.051910824667350995), ((1, 27), 0.07612963600736042), ((1, 28), 0.02368538996544204), ((1, 29), 0.009667322915025752), ((1, 30), 0.03948645091916239), ((1, 31), 0.049057433445336), ((1, 32), 0.04918063711117349), ((1, 33), 0.08627957708603072), ((1, 34), 0.07696388901199325), ((1, 35), 0.023260613871962005), ((1, 36), 0.03370600074105103), ((1, 37), 0.014843619077498026), ((1, 38), 0.081844962193549), ((1, 39), 0.04708069560293035), ((0, 0), 0.046290045943230176), ((0, 1), 0.0127721828528599), ((0, 2), 0.04789584913774668), ((0, 3), 0.005622683727186217), ((0, 4), 0.010664807006294316), ((0, 5), 0.07362936193564458), ((0, 6), 0.0030496460006069403), ((0, 7), 0.07353434657372525), ((0, 8), 0.04656794791609379), ((0, 9), 0.06379565225463077), ((0, 10), 0.03853907394063262), ((0, 11), 0.05270316810170615), ((0, 12), 0.04670262799443626), ((0, 13), 0.02230723684805246), ((0, 14), 0.03399619743668171), ((0, 15), 0.018801108068004165), ((0, 16), 0.01670330774788312), ((0, 17), 0.033396182815106375), ((0, 18), 0.0061324935862129976), ((0, 19), 0.07026198542059442), ((0, 20), 0.05242711385605827), ((0, 21), 0.05299591488800346), ((0, 22), 0.048998295279625945), ((0, 23), 0.054060707297767845), ((0, 24), 0.03796942205724323), ((0, 25), 0.06379858236511564), ((0, 26), 0.030888888131036026), ((0, 27), 0.01458522846070715), ((0, 28), 0.07809905622462097), ((0, 29), 0.006448927084670533), ((0, 30), 0.002434924562747319), ((0, 31), 0.05072398276609546), ((0, 32), 0.00015206588041530503), ((0, 33), 0.06454716937176071), ((0, 34), 0.07139764191486338), ((0, 35), 0.024602025030355277), ((0, 36), 0.005230093889223301), ((0, 37), 0.04518515942892594), ((0, 38), 0.06848186765034575), ((0, 39), 0.0655075431527948), ((1, 0), 0.13475828378617108), ((1, 1), 0.037182020591757015), ((1, 2), 0.1394330530196426), ((1, 3), 0.01636859920764151), ((1, 4), 0.031047087117638483), ((1, 5), 0.21434773391425832), ((1, 6), 0.008878043925494407), ((1, 7), 0.21407112785685078), ((1, 8), 0.1355673042172551), ((1, 9), 0.18572011402617133), ((1, 10), 0.11219387142793566), ((1, 11), 0.1534279851912456), ((1, 12), 0.13595938108492286), ((1, 13), 0.06494020242152772), ((1, 14), 0.09896877673099518), ((1, 15), 0.05473325862821077), ((1, 16), 0.048626201158181705), ((1, 17), 0.09722203098895672), ((1, 18), 0.01785274337427235), ((1, 19), 0.2045447218242178), ((1, 20), 0.15262434381182208), ((1, 21), 0.15428022142695216), ((1, 22), 0.14264246331550906), ((1, 23), 0.15738001523368902), ((1, 24), 0.11053551683793894), ((1, 25), 0.18572864408165518), ((1, 26), 0.08992286500873967), ((1, 27), 0.04246010812788059), ((1, 28), 0.2273597825989799), ((1, 29), 0.018773935702249025), ((1, 30), 0.0070884841122653836), ((1, 31), 0.1476662363381823), ((1, 32), 0.00044268992716773404), ((1, 33), 0.18790790958516826), ((1, 34), 0.20785081316674942), ((1, 35), 0.07162072543243955), ((1, 36), 0.015225702679505508), ((1, 37), 0.13154176914652857), ((1, 38), 0.19936249288562113), ((1, 39), 0.19070372280782327)]), (1, [((0, 0), 0.024530303438597172), ((0, 1), 0.023077640102649663), ((0, 2), 0.03384970625065499), ((0, 3), 0.034797407595327665), ((0, 4), 0.018082538912944125), ((0, 5), 0.01188696920632896), ((0, 6), 0.027813363180617272), ((0, 7), 0.0009962258256636398), ((0, 8), 0.029045665241227404), ((0, 9), 0.02452399399340518), ((0, 10), 0.023608085714882557), ((0, 11), 0.03160773305252399), ((0, 12), 0.005287861340147012), ((0, 13), 0.0048138938621252745), ((0, 14), 0.03637004634337199), ((0, 15), 0.0066003058322124985), ((0, 16), 0.02637837589617856), ((0, 17), 0.02050896450137848), ((0, 18), 0.028553453976639616), ((0, 19), 0.03502817397555443), ((0, 20), 0.02385121617881907), ((0, 21), 0.023697055705923873), ((0, 22), 0.037289267284815665), ((0, 23), 0.0035127404410405312), ((0, 24), 0.018444634702885314), ((0, 25), 0.025462624726025812), ((0, 26), 0.03465590735281047), ((0, 27), 0.016090263759532854), ((0, 28), 0.016148640548639945), ((0, 29), 0.02993628436745177), ((0, 30), 0.011235577093452567), ((0, 31), 0.0014391947873761718), ((0, 32), 0.006430731760623152), ((0, 33), 0.027596122793527415), ((0, 34), 0.009074976967512638), ((0, 35), 0.009948346228010706), ((0, 36), 0.025790254119469936), ((0, 37), 0.02966463377052884), ((0, 38), 0.03086675265981092), ((0, 39), 0.03488066155002958), ((1, 0), 0.5401341414763208), ((1, 1), 0.508147865163833), ((1, 2), 0.7453386000988157), ((1, 3), 0.7662060897106769), ((1, 4), 0.3981604490096674), ((1, 5), 0.2617398485545653), ((1, 6), 0.6124240199774286), ((1, 7), 0.02193595290854426), ((1, 8), 0.6395581488810219), ((1, 9), 0.5399952134451002), ((1, 10), 0.5198277771584187), ((1, 11), 0.6959724652029867), ((1, 12), 0.11643371849661349), ((1, 13), 0.10599740173967702), ((1, 14), 0.8008341114207864), ((1, 15), 0.14533250813986373), ((1, 16), 0.5808269536447642), ((1, 17), 0.4515880515399734), ((1, 18), 0.6287201211538647), ((1, 19), 0.7712873477137581), ((1, 20), 0.525181280621342), ((1, 21), 0.5217868124328313), ((1, 22), 0.8210744894200457), ((1, 23), 0.07734723082818436), ((1, 24), 0.40613345672731094), ((1, 25), 0.5606629767361819), ((1, 26), 0.7630903878522783), ((1, 27), 0.3542924295101931), ((1, 28), 0.3555778313375871), ((1, 29), 0.6591687418901845), ((1, 30), 0.2473968087086196), ((1, 31), 0.03168971157827145), ((1, 32), 0.14159864704826228), ((1, 33), 0.6076405915837082), ((1, 34), 0.19982243210054396), ((1, 35), 0.21905319933877876), ((1, 36), 0.567877066916245), ((1, 37), 0.6531872520028793), ((1, 38), 0.6796567759466066), ((1, 39), 0.7680392632570209)])]\n",
      "aa (0, [((0, 0), 0.3812178295725516), ((0, 1), 0.14522649430723028), ((0, 2), 0.17841535208294093), ((0, 3), 0.26742054423528844), ((0, 4), 0.3786466633271507), ((0, 5), 0.24013040905323302), ((0, 6), 0.13126799715635665), ((0, 7), 0.10938521652893331), ((0, 8), 0.6200811434217469), ((0, 9), 0.40659007233374733), ((0, 10), 0.15889779008049423), ((0, 11), 0.15396832457737444), ((0, 12), 0.19855771073016193), ((0, 13), 0.4495527793704409), ((0, 14), 0.06670524122243732), ((0, 15), 0.5808215601268693), ((0, 16), 0.1743052541921276), ((0, 17), 0.41238285607057257), ((0, 18), 0.6224784470851074), ((0, 19), 0.041528279919156634), ((0, 20), 0.17114120306866992), ((0, 21), 0.20406614811110108), ((0, 22), 0.5471082518676902), ((0, 23), 0.2310499969638958), ((0, 24), 0.2542986403239763), ((0, 25), 0.19537733095336787), ((0, 26), 0.39910727676369673), ((0, 27), 0.5853093627891998), ((0, 28), 0.18210096928279346), ((0, 29), 0.0743255177881592), ((0, 30), 0.3035846568879883), ((0, 31), 0.3771694784825592), ((0, 32), 0.3781167082727774), ((0, 33), 0.6633454057374422), ((0, 34), 0.5917233707912793), ((0, 35), 0.1788351527408774), ((0, 36), 0.25914267886437126), ((0, 37), 0.11412256355587973), ((0, 38), 0.6292506464155532), ((0, 39), 0.36197167605476505), ((1, 0), 0.04958399173144037), ((1, 1), 0.018889224832400797), ((1, 2), 0.023206011514104515), ((1, 3), 0.034782680728883075), ((1, 4), 0.04924956695913875), ((1, 5), 0.031233125245777326), ((1, 6), 0.017073680139519296), ((1, 7), 0.014227444917762481), ((1, 8), 0.08065230926559937), ((1, 9), 0.052884092035483984), ((1, 10), 0.020667414004034455), ((1, 11), 0.0200262515037884), ((1, 12), 0.025825874666190997), ((1, 13), 0.05847213736079396), ((1, 14), 0.008676173758519331), ((1, 15), 0.07554591942109572), ((1, 16), 0.022671421985430037), ((1, 17), 0.053637544048027126), ((1, 18), 0.08096412019310792), ((1, 19), 0.005401473195630053), ((1, 20), 0.022259882249947852), ((1, 21), 0.02654234250258757), ((1, 22), 0.07116091885636086), ((1, 23), 0.03005206013541611), ((1, 24), 0.03307594949921107), ((1, 25), 0.025412211106088847), ((1, 26), 0.051910824667350995), ((1, 27), 0.07612963600736042), ((1, 28), 0.02368538996544204), ((1, 29), 0.009667322915025752), ((1, 30), 0.03948645091916239), ((1, 31), 0.049057433445336), ((1, 32), 0.04918063711117349), ((1, 33), 0.08627957708603072), ((1, 34), 0.07696388901199325), ((1, 35), 0.023260613871962005), ((1, 36), 0.03370600074105103), ((1, 37), 0.014843619077498026), ((1, 38), 0.081844962193549), ((1, 39), 0.04708069560293035), ((0, 0), 0.046290045943230176), ((0, 1), 0.0127721828528599), ((0, 2), 0.04789584913774668), ((0, 3), 0.005622683727186217), ((0, 4), 0.010664807006294316), ((0, 5), 0.07362936193564458), ((0, 6), 0.0030496460006069403), ((0, 7), 0.07353434657372525), ((0, 8), 0.04656794791609379), ((0, 9), 0.06379565225463077), ((0, 10), 0.03853907394063262), ((0, 11), 0.05270316810170615), ((0, 12), 0.04670262799443626), ((0, 13), 0.02230723684805246), ((0, 14), 0.03399619743668171), ((0, 15), 0.018801108068004165), ((0, 16), 0.01670330774788312), ((0, 17), 0.033396182815106375), ((0, 18), 0.0061324935862129976), ((0, 19), 0.07026198542059442), ((0, 20), 0.05242711385605827), ((0, 21), 0.05299591488800346), ((0, 22), 0.048998295279625945), ((0, 23), 0.054060707297767845), ((0, 24), 0.03796942205724323), ((0, 25), 0.06379858236511564), ((0, 26), 0.030888888131036026), ((0, 27), 0.01458522846070715), ((0, 28), 0.07809905622462097), ((0, 29), 0.006448927084670533), ((0, 30), 0.002434924562747319), ((0, 31), 0.05072398276609546), ((0, 32), 0.00015206588041530503), ((0, 33), 0.06454716937176071), ((0, 34), 0.07139764191486338), ((0, 35), 0.024602025030355277), ((0, 36), 0.005230093889223301), ((0, 37), 0.04518515942892594), ((0, 38), 0.06848186765034575), ((0, 39), 0.0655075431527948), ((1, 0), 0.13475828378617108), ((1, 1), 0.037182020591757015), ((1, 2), 0.1394330530196426), ((1, 3), 0.01636859920764151), ((1, 4), 0.031047087117638483), ((1, 5), 0.21434773391425832), ((1, 6), 0.008878043925494407), ((1, 7), 0.21407112785685078), ((1, 8), 0.1355673042172551), ((1, 9), 0.18572011402617133), ((1, 10), 0.11219387142793566), ((1, 11), 0.1534279851912456), ((1, 12), 0.13595938108492286), ((1, 13), 0.06494020242152772), ((1, 14), 0.09896877673099518), ((1, 15), 0.05473325862821077), ((1, 16), 0.048626201158181705), ((1, 17), 0.09722203098895672), ((1, 18), 0.01785274337427235), ((1, 19), 0.2045447218242178), ((1, 20), 0.15262434381182208), ((1, 21), 0.15428022142695216), ((1, 22), 0.14264246331550906), ((1, 23), 0.15738001523368902), ((1, 24), 0.11053551683793894), ((1, 25), 0.18572864408165518), ((1, 26), 0.08992286500873967), ((1, 27), 0.04246010812788059), ((1, 28), 0.2273597825989799), ((1, 29), 0.018773935702249025), ((1, 30), 0.0070884841122653836), ((1, 31), 0.1476662363381823), ((1, 32), 0.00044268992716773404), ((1, 33), 0.18790790958516826), ((1, 34), 0.20785081316674942), ((1, 35), 0.07162072543243955), ((1, 36), 0.015225702679505508), ((1, 37), 0.13154176914652857), ((1, 38), 0.19936249288562113), ((1, 39), 0.19070372280782327)])\n",
      "aa (1, [((0, 0), 0.024530303438597172), ((0, 1), 0.023077640102649663), ((0, 2), 0.03384970625065499), ((0, 3), 0.034797407595327665), ((0, 4), 0.018082538912944125), ((0, 5), 0.01188696920632896), ((0, 6), 0.027813363180617272), ((0, 7), 0.0009962258256636398), ((0, 8), 0.029045665241227404), ((0, 9), 0.02452399399340518), ((0, 10), 0.023608085714882557), ((0, 11), 0.03160773305252399), ((0, 12), 0.005287861340147012), ((0, 13), 0.0048138938621252745), ((0, 14), 0.03637004634337199), ((0, 15), 0.0066003058322124985), ((0, 16), 0.02637837589617856), ((0, 17), 0.02050896450137848), ((0, 18), 0.028553453976639616), ((0, 19), 0.03502817397555443), ((0, 20), 0.02385121617881907), ((0, 21), 0.023697055705923873), ((0, 22), 0.037289267284815665), ((0, 23), 0.0035127404410405312), ((0, 24), 0.018444634702885314), ((0, 25), 0.025462624726025812), ((0, 26), 0.03465590735281047), ((0, 27), 0.016090263759532854), ((0, 28), 0.016148640548639945), ((0, 29), 0.02993628436745177), ((0, 30), 0.011235577093452567), ((0, 31), 0.0014391947873761718), ((0, 32), 0.006430731760623152), ((0, 33), 0.027596122793527415), ((0, 34), 0.009074976967512638), ((0, 35), 0.009948346228010706), ((0, 36), 0.025790254119469936), ((0, 37), 0.02966463377052884), ((0, 38), 0.03086675265981092), ((0, 39), 0.03488066155002958), ((1, 0), 0.5401341414763208), ((1, 1), 0.508147865163833), ((1, 2), 0.7453386000988157), ((1, 3), 0.7662060897106769), ((1, 4), 0.3981604490096674), ((1, 5), 0.2617398485545653), ((1, 6), 0.6124240199774286), ((1, 7), 0.02193595290854426), ((1, 8), 0.6395581488810219), ((1, 9), 0.5399952134451002), ((1, 10), 0.5198277771584187), ((1, 11), 0.6959724652029867), ((1, 12), 0.11643371849661349), ((1, 13), 0.10599740173967702), ((1, 14), 0.8008341114207864), ((1, 15), 0.14533250813986373), ((1, 16), 0.5808269536447642), ((1, 17), 0.4515880515399734), ((1, 18), 0.6287201211538647), ((1, 19), 0.7712873477137581), ((1, 20), 0.525181280621342), ((1, 21), 0.5217868124328313), ((1, 22), 0.8210744894200457), ((1, 23), 0.07734723082818436), ((1, 24), 0.40613345672731094), ((1, 25), 0.5606629767361819), ((1, 26), 0.7630903878522783), ((1, 27), 0.3542924295101931), ((1, 28), 0.3555778313375871), ((1, 29), 0.6591687418901845), ((1, 30), 0.2473968087086196), ((1, 31), 0.03168971157827145), ((1, 32), 0.14159864704826228), ((1, 33), 0.6076405915837082), ((1, 34), 0.19982243210054396), ((1, 35), 0.21905319933877876), ((1, 36), 0.567877066916245), ((1, 37), 0.6531872520028793), ((1, 38), 0.6796567759466066), ((1, 39), 0.7680392632570209)])\n",
      "240 key-value pairs were sent over a network.\n",
      "[(0, [((0, 1), 0.18107631726273987), ((0, 2), 0.2601609074713426), ((0, 4), 0.40739400924638913), ((0, 5), 0.32564674019520656), ((0, 8), 0.6956947565790681), ((0, 9), 0.4949097185817833), ((0, 11), 0.23827922573160457), ((0, 12), 0.2505482000647452), ((0, 15), 0.6062229740270859), ((0, 16), 0.2173869378361893), ((0, 18), 0.6571643946479601), ((0, 19), 0.1468184393153055), ((0, 22), 0.6333958144321318), ((0, 23), 0.2886234447027042), ((0, 25), 0.28463853804450934), ((0, 26), 0.46465207224754324), ((0, 29), 0.1107107292402815), ((0, 32), 0.38469950591381585), ((0, 33), 0.7554886979027303), ((0, 36), 0.2901630268730645), ((0, 39), 0.4623598807575894), ((1, 0), 0.7244764169939322), ((1, 1), 0.5642191105879908), ((1, 3), 0.8173573696472015), ((1, 4), 0.4784571030864446), ((1, 7), 0.2502345256831575), ((1, 10), 0.6526890625903887), ((1, 11), 0.8694267018980207), ((1, 14), 0.9084790619103009), ((1, 17), 0.6024476265769573), ((1, 18), 0.727536984721245), ((1, 21), 0.7026093763623711), ((1, 24), 0.5497449230644609), ((1, 25), 0.771803831923926), ((1, 27), 0.47288217364543406), ((1, 28), 0.6066230039020091), ((1, 31), 0.22841338136178974), ((1, 32), 0.19122197408660352), ((1, 34), 0.4846371342792866), ((1, 35), 0.3139345386431803), ((1, 38), 0.9608642310257767), ((1, 39), 1.0058236816677746)]), (1, [((0, 0), 0.452038178954379), ((0, 3), 0.30784063555780233), ((0, 6), 0.16213100633758087), ((0, 7), 0.1839157889283222), ((0, 10), 0.2210449497360094), ((0, 13), 0.47667391008061866), ((0, 14), 0.137071485002491), ((0, 17), 0.4662880033870574), ((0, 20), 0.24741953310354728), ((0, 21), 0.28075911870502845), ((0, 24), 0.31071269708410487), ((0, 27), 0.6159848550094398), ((0, 28), 0.2763486660560544), ((0, 30), 0.3172551585441882), ((0, 31), 0.4293326560360309), ((0, 34), 0.6721959896736553), ((0, 35), 0.2133855239992434), ((0, 37), 0.1889723567553345), ((0, 38), 0.7285992667257098), ((1, 2), 0.9079776646325628), ((1, 5), 0.5073207077146009), ((1, 6), 0.6383757440424422), ((1, 8), 0.8557777623638764), ((1, 9), 0.7785994195067555), ((1, 12), 0.27821897424772735), ((1, 13), 0.2294097415219987), ((1, 15), 0.2756116861891702), ((1, 16), 0.652124576788376), ((1, 19), 0.9812335427336059), ((1, 20), 0.7000655066831118), ((1, 22), 1.0348778715919156), ((1, 23), 0.2647793061972895), ((1, 26), 0.904924077528369), ((1, 29), 0.6876100005074592), ((1, 30), 0.29397174374004736), ((1, 33), 0.8818280782549072), ((1, 36), 0.6168087703368015), ((1, 37), 0.7995726402269059)])]\n",
      "[((0, 1), 0.18107631726273987), ((0, 2), 0.2601609074713426), ((0, 4), 0.40739400924638913), ((0, 5), 0.32564674019520656), ((0, 8), 0.6956947565790681), ((0, 9), 0.4949097185817833), ((0, 11), 0.23827922573160457), ((0, 12), 0.2505482000647452), ((0, 15), 0.6062229740270859), ((0, 16), 0.2173869378361893), ((0, 18), 0.6571643946479601), ((0, 19), 0.1468184393153055), ((0, 22), 0.6333958144321318), ((0, 23), 0.2886234447027042), ((0, 25), 0.28463853804450934), ((0, 26), 0.46465207224754324), ((0, 29), 0.1107107292402815), ((0, 32), 0.38469950591381585), ((0, 33), 0.7554886979027303), ((0, 36), 0.2901630268730645), ((0, 39), 0.4623598807575894), ((1, 0), 0.7244764169939322), ((1, 1), 0.5642191105879908), ((1, 3), 0.8173573696472015), ((1, 4), 0.4784571030864446), ((1, 7), 0.2502345256831575), ((1, 10), 0.6526890625903887), ((1, 11), 0.8694267018980207), ((1, 14), 0.9084790619103009), ((1, 17), 0.6024476265769573), ((1, 18), 0.727536984721245), ((1, 21), 0.7026093763623711), ((1, 24), 0.5497449230644609), ((1, 25), 0.771803831923926), ((1, 27), 0.47288217364543406), ((1, 28), 0.6066230039020091), ((1, 31), 0.22841338136178974), ((1, 32), 0.19122197408660352), ((1, 34), 0.4846371342792866), ((1, 35), 0.3139345386431803), ((1, 38), 0.9608642310257767), ((1, 39), 1.0058236816677746), ((0, 0), 0.452038178954379), ((0, 3), 0.30784063555780233), ((0, 6), 0.16213100633758087), ((0, 7), 0.1839157889283222), ((0, 10), 0.2210449497360094), ((0, 13), 0.47667391008061866), ((0, 14), 0.137071485002491), ((0, 17), 0.4662880033870574), ((0, 20), 0.24741953310354728), ((0, 21), 0.28075911870502845), ((0, 24), 0.31071269708410487), ((0, 27), 0.6159848550094398), ((0, 28), 0.2763486660560544), ((0, 30), 0.3172551585441882), ((0, 31), 0.4293326560360309), ((0, 34), 0.6721959896736553), ((0, 35), 0.2133855239992434), ((0, 37), 0.1889723567553345), ((0, 38), 0.7285992667257098), ((1, 2), 0.9079776646325628), ((1, 5), 0.5073207077146009), ((1, 6), 0.6383757440424422), ((1, 8), 0.8557777623638764), ((1, 9), 0.7785994195067555), ((1, 12), 0.27821897424772735), ((1, 13), 0.2294097415219987), ((1, 15), 0.2756116861891702), ((1, 16), 0.652124576788376), ((1, 19), 0.9812335427336059), ((1, 20), 0.7000655066831118), ((1, 22), 1.0348778715919156), ((1, 23), 0.2647793061972895), ((1, 26), 0.904924077528369), ((1, 29), 0.6876100005074592), ((1, 30), 0.29397174374004736), ((1, 33), 0.8818280782549072), ((1, 36), 0.6168087703368015), ((1, 37), 0.7995726402269059)]\n"
     ]
    },
    {
     "data": {
      "text/plain": [
       "True"
      ]
     },
     "execution_count": 53,
     "metadata": {},
     "output_type": "execute_result"
    }
   ],
   "source": [
    "def flatten(nested_iterable):\n",
    "    for iterable in nested_iterable:\n",
    "        for element in iterable:\n",
    "            yield element\n",
    "\n",
    "def groupbykey(iterable):\n",
    "    t = {}\n",
    "    for (k2, v2) in iterable:\n",
    "        t[k2] = t.get(k2, []) + [v2]\n",
    "    return t.items()\n",
    "\n",
    "def groupbykey_distributed(map_partitions, PARTITIONER):\n",
    "    global reducers\n",
    "    partitions = [dict() for _ in range(reducers)]\n",
    "    for map_partition in map_partitions:\n",
    "        for (k2, v2) in map_partition:\n",
    "            p = partitions[PARTITIONER(k2)]\n",
    "            p[k2] = p.get(k2, []) + [v2]\n",
    "    return [(partition_id, sorted(partition.items(), key=lambda x: x[0])) for (partition_id, partition) in enumerate(partitions)]\n",
    "\n",
    "def PARTITIONER(obj):\n",
    "  global reducers\n",
    "  return hash(obj) % reducers\n",
    "\n",
    "def MapReduceDistributed(INPUTFORMAT, MAP, REDUCE, PARTITIONER=PARTITIONER, COMBINER=None):\n",
    "  map_partitions = map(lambda record_reader: flatten(map(lambda k1v1: MAP(*k1v1), record_reader)), INPUTFORMAT())\n",
    "  if COMBINER != None:\n",
    "    map_partitions = map(lambda map_partition: flatten(map(lambda k2v2: COMBINER(*k2v2), groupbykey(map_partition))), map_partitions)\n",
    "  reduce_partitions = groupbykey_distributed(map_partitions, PARTITIONER) # shuffle\n",
    "  reduce_outputs = map(lambda reduce_partition: (reduce_partition[0], flatten(map(lambda reduce_input_group: REDUCE(*reduce_input_group), reduce_partition[1]))), reduce_partitions)\n",
    "\n",
    "  print(\"{} key-value pairs were sent over a network.\".format(sum([len(vs) for (k,vs) in flatten([partition for (partition_id, partition) in reduce_partitions])])))\n",
    "  return reduce_outputs\n",
    "\n",
    "def asmatrix(reduce_output):\n",
    "  reduce_output = list(reduce_output)\n",
    "  I = max(i for ((i,k), vw) in reduce_output)+1\n",
    "  K = max(k for ((i,k), vw) in reduce_output)+1\n",
    "  mat = np.empty(shape=(I,K))\n",
    "  for ((i,k), vw) in reduce_output:\n",
    "    mat[i,k] = vw\n",
    "  return mat\n",
    "\n",
    "# ===================================================================================================================================================================================\n",
    "\n",
    "import numpy as np\n",
    "I = 2\n",
    "J = 3\n",
    "K = 4*10\n",
    "small_mat = np.random.rand(I,J)\n",
    "big_mat = np.random.rand(J,K)\n",
    "reference_solution = np.matmul(small_mat, big_mat)\n",
    "\n",
    "def INPUTFORMAT():\n",
    "  first_mat = []\n",
    "  for i in range(small_mat.shape[0]):\n",
    "    for j in range(small_mat.shape[1]):\n",
    "      first_mat.append(((0, i, j), small_mat[i,j])) # первая матрица\n",
    "\n",
    "  global maps\n",
    "  split_size =  int(np.ceil(len(first_mat)/maps))\n",
    "  for i in range(0, len(first_mat), split_size):\n",
    "    yield first_mat[i:i+split_size]\n",
    "\n",
    "  second_mat = []\n",
    "  for j in range(big_mat.shape[0]):\n",
    "    for k in range(big_mat.shape[1]):\n",
    "      second_mat.append(((1, j, k), big_mat[j,k])) # вторая матрица\n",
    "\n",
    "  split_size =  int(np.ceil(len(second_mat)/maps))\n",
    "  for i in range(0, len(second_mat), split_size):\n",
    "    yield second_mat[i:i+split_size]\n",
    "\n",
    "\n",
    "def MAP_JOIN(k1, v1):\n",
    "  (mat_num, i, j) = k1\n",
    "  w = v1\n",
    "  if mat_num == 0:\n",
    "    yield (j, (mat_num, i, w))\n",
    "  else:\n",
    "    yield (i, (mat_num, j, w))\n",
    "\n",
    "\n",
    "def REDUCE_JOIN(key, values):\n",
    "  from_first_mat = [v for v in values if v[0] == 0]\n",
    "  from_second_mat = [v for v in values if v[0] == 1]\n",
    "  for f in from_first_mat:\n",
    "    for s in from_second_mat:\n",
    "      yield ((f[1], s[1]), f[2] * s[2])\n",
    "\n",
    "\n",
    "def GET_JOINED():\n",
    "  for j in joined:\n",
    "    print(\"aa\", j)\n",
    "    yield j[1]\n",
    "\n",
    "\n",
    "def MAP_MUL(k1, v1):\n",
    "  yield (k1, v1)\n",
    "\n",
    "\n",
    "def REDUCE_MUL(key, values):\n",
    "  res_val = 0\n",
    "  for v in values:\n",
    "    res_val += v\n",
    "  yield (key, res_val)\n",
    "\n",
    "maps = 3\n",
    "reducers = 2\n",
    "partitioned_output = MapReduceDistributed(INPUTFORMAT, MAP_JOIN, REDUCE_JOIN, COMBINER=None)\n",
    "joined = [(partition_id, list(partition)) for (partition_id, partition) in partitioned_output]\n",
    "print(joined)\n",
    "\n",
    "mul_output = MapReduceDistributed(GET_JOINED, MAP_MUL, REDUCE_MUL, COMBINER=None)\n",
    "pre_result = [(partition_id, list(partition)) for (partition_id, partition) in mul_output]\n",
    "print(pre_result)\n",
    "\n",
    "solution = []\n",
    "for p in pre_result:\n",
    "  for v in p[1]:\n",
    "    solution.append(v)\n",
    "\n",
    "print(solution)\n",
    "np.allclose(reference_solution, asmatrix(solution)) # should return true\n"
   ]
  },
  {
   "cell_type": "code",
   "execution_count": null,
   "metadata": {},
   "outputs": [],
   "source": []
  }
 ],
 "metadata": {
  "colab": {
   "provenance": []
  },
  "kernelspec": {
   "display_name": "Python 3 (ipykernel)",
   "language": "python",
   "name": "python3"
  },
  "language_info": {
   "codemirror_mode": {
    "name": "ipython",
    "version": 3
   },
   "file_extension": ".py",
   "mimetype": "text/x-python",
   "name": "python",
   "nbconvert_exporter": "python",
   "pygments_lexer": "ipython3",
   "version": "3.11.2"
  }
 },
 "nbformat": 4,
 "nbformat_minor": 1
}
